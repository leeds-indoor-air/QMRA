{
 "cells": [
  {
   "cell_type": "code",
   "execution_count": 1,
   "metadata": {},
   "outputs": [
    {
     "name": "stdout",
     "output_type": "stream",
     "text": [
      "seed: 1635341405\n"
     ]
    }
   ],
   "source": [
    "import numpy as np\n",
    "from scipy import stats\n",
    "import math as m\n",
    "import time\n",
    "%matplotlib inline\n",
    "from matplotlib import pyplot as plt\n",
    "from Duguid_1946 import total_talk_small, total_talk_large, volume_small, volume_large, \\\n",
    "diameter_small, diameter_large, talk_small, talk_large\n",
    "from Chen_2020 import distance, eSR, eLD\n",
    "from van_Doremalen_2020 import viral_half_lives\n",
    "from Chen_Bobrovitz_2020 import viral_load\n",
    "from pulmonary_rate import pulmonary_rate\n",
    "\n",
    "seed = int(time.time())\n",
    "print('seed:', seed)\n",
    "\n",
    "ranD = np.random.default_rng(seed)\n",
    "\n",
    "''' iterations '''\n",
    "N = 200000 \n"
   ]
  },
  {
   "cell_type": "markdown",
   "metadata": {},
   "source": [
    "Exposure via (I) short range aerosols and large droplet deposition and (II) long range aerosols for person A, standing 1.5m and person B standing more than 2m away from infector in a room for 30 minutes, all having entered at the same time.  Relative reductions in exposure calculated for the following interventions\n",
    "\n",
    "1. Increasing the ventilation rate fourfold\n",
    "2. Infector wears a mask, with baseline ventilation rate\n",
    "3. Infector and persons A & B wear a mask, with baseline ventilation rate\n",
    "4. Infector and persons A & B wear a mask and fourfold increase in ventilation rate"
   ]
  },
  {
   "cell_type": "code",
   "execution_count": 2,
   "metadata": {},
   "outputs": [],
   "source": [
    "'''\n",
    "solution to dx/dt = a - b*x(t), x(0) = x0\n",
    "assume all inputs are numpy ndarrays\n",
    "\n",
    "t.shape = (m,1) OR (1,)\n",
    "a.shape = b.shape = x0.shape = (1,n) OR (1,)\n",
    "'''\n",
    "def xs(t, a, b, x0):\n",
    "    \n",
    "    factor1 = np.exp( np.multiply(-b, t) )\n",
    "    factor2 = np.subtract(  x0, np.divide(a, b) )\n",
    "    ret = np.multiply( factor1, factor2 )\n",
    "    np.add( ret, np.divide(a,b), out=ret )\n",
    "    return ret\n",
    "\n",
    "'''\n",
    "definite integral of solution to dx/dt = a - b*x(t), x(0) = x0\n",
    "from t = t0 to t1\n",
    "assume all inputs are numpy ndarrays\n",
    "'''\n",
    "def xs_int(a, b, x0, t0, t1):\n",
    "\n",
    "    ret = np.multiply( a, np.subtract(t1, t0) ) - xs(np.subtract(t1, t0), a, b, x0) + x0\n",
    "    return np.divide(ret, b)\n"
   ]
  },
  {
   "cell_type": "markdown",
   "metadata": {},
   "source": [
    "# Short range exposure\n"
   ]
  },
  {
   "cell_type": "markdown",
   "metadata": {},
   "source": [
    "## Rate of exposure to respiratory fluid (Chen 2020)\n",
    "\n",
    "Table below shows exposure (ul) to respiratory fluid when standing at a range of distances from someone counting aloud from 1 to 100 via\n",
    "\n",
    "    (a) close range inhalation of expired aerosols (eSR)\n",
    "    (b) deposition onto mucous membranes (eLD)\n",
    "    \n",
    "    (source: Short-range airborne route dominates exposure of respiratory infection during close contact, Chen et al. 2020, Figure A1b)"
   ]
  },
  {
   "cell_type": "code",
   "execution_count": 3,
   "metadata": {},
   "outputs": [
    {
     "name": "stdout",
     "output_type": "stream",
     "text": [
      "Dist[m]\teSR (ul)\teLD (ul)\n",
      "--------------------------------------------------------\n",
      "0.1\t2.3988e-02\t2.5119e-01\n",
      "0.5\t1.3804e-04\t7.9433e-06\n",
      "1.0\t6.0256e-06\t4.6774e-08\n",
      "1.5\t8.9125e-07\t3.6308e-09\n",
      "2.0\t2.5119e-07\t4.1687e-10\n"
     ]
    }
   ],
   "source": [
    "print('Dist[m]\\teSR (ul)\\teLD (ul)')\n",
    "print('--------------------------------------------------------')\n",
    "for d,s,l in zip(distance, eSR, eLD):\n",
    "    print('%s\\t%.4e\\t%.4e' %(d,s,l))\n"
   ]
  },
  {
   "cell_type": "markdown",
   "metadata": {},
   "source": [
    "## Model description\n",
    "\n",
    "$e_{\\text{SR}},\\,e_{\\text{LD}}$ = exposure to short range aerosols / large droplets at distance $d$ - counting 1-100 (microlitres)\n",
    "\n",
    "$\\phi =$ respiratory viral load (RNA per ul) [Chen, Bobrovitz et al. (2021)]\n",
    "\n",
    "$m_{\\text{src, LD}},\\, m_{\\text{recip, LD}} = $ mask efficacy for source/recipient - \"large\" droplets (> 20 microns)\n",
    "\n",
    "$m_{\\text{src, SD}},\\, m_{\\text{recip, SD}} = $ mask efficacy for source/recipient - \"small\" droplets (<= 20 microns)\n",
    "\n",
    "$q_{\\text{short range}} = \\phi \\big\\{e_{\\text{LD}}(1 - m_{\\text{src, LD}})(1 - m_{\\text{recip, LD}}) + e_{\\text{SR}}(1 - m_{\\text{src, SD}})(1 - m_{\\text{recip, SD}})\\big\\}$ - RNA copies per min"
   ]
  },
  {
   "cell_type": "markdown",
   "metadata": {},
   "source": [
    "# Long range exposure via aerosols"
   ]
  },
  {
   "cell_type": "markdown",
   "metadata": {},
   "source": [
    "## Respiratory fluid volume (Duguid 1946)\n",
    "\n",
    "\n",
    "Volume of resp. fluid from counting 1-100 over one minute for small (<= 20 micron) & large (> 20 micron) particles "
   ]
  },
  {
   "cell_type": "code",
   "execution_count": 4,
   "metadata": {},
   "outputs": [
    {
     "name": "stdout",
     "output_type": "stream",
     "text": [
      "\"small particles\" (counting 1-100):\n",
      "diam [micron]\t\tn\t\tvolume rate [ul per min]\n",
      "----------------------------------------------------------------\n",
      "1.5\t\t\t1\t\t1.7671e-09\n",
      "3\t\t\t13\t\t1.4137e-08\n",
      "6\t\t\t52\t\t1.1310e-07\n",
      "12\t\t\t78\t\t9.0478e-07\n",
      "20\t\t\t40\t\t4.1888e-06\n",
      "----------------------------------------------------------------\n",
      "total\t\t\t-\t\t2.4419e-04\n",
      "\n",
      "\"large particles\" (counting 1-100):\n",
      "diam [micron]\t\tn\t\tvolume rate [ul per min]\n",
      "----------------------------------------------------------------\n",
      "28\t\t\t24\t\t1.1494e-05\n",
      "36\t\t\t12\t\t2.4429e-05\n",
      "45\t\t\t6\t\t4.7713e-05\n",
      "62.5\t\t\t7\t\t1.2783e-04\n",
      "87.5\t\t\t5\t\t3.5077e-04\n",
      "112.5\t\t\t4\t\t7.4551e-04\n",
      "137.5\t\t\t3\t\t1.3612e-03\n",
      "175\t\t\t2\t\t2.8062e-03\n",
      "225\t\t\t1\t\t5.9641e-03\n",
      "375\t\t\t3\t\t2.7612e-02\n",
      "750\t\t\t1\t\t2.2089e-01\n",
      "1500\t\t\t0\t\t1.7671e+00\n",
      "----------------------------------------------------------------\n",
      "total\t\t\t-\t\t3.2587e-01\n"
     ]
    }
   ],
   "source": [
    "print('\"small particles\" (counting 1-100):')\n",
    "print('diam [micron]\\t\\tn\\t\\tvolume rate [ul per min]')\n",
    "print('----------------------------------------------------------------')\n",
    "for d, n, v in zip(diameter_small, talk_small, volume_small):\n",
    "    print('%s\\t\\t\\t%d\\t\\t%.4e' %(d,n,v*1e9))\n",
    "print('----------------------------------------------------------------')    \n",
    "print('total\\t\\t\\t-\\t\\t%.4e' %np.sum(total_talk_small))\n",
    "print('\\n\"large particles\" (counting 1-100):')\n",
    "print('diam [micron]\\t\\tn\\t\\tvolume rate [ul per min]')\n",
    "print('----------------------------------------------------------------')\n",
    "for d, n, v in zip(diameter_large, talk_large, volume_large):\n",
    "    print('%s\\t\\t\\t%d\\t\\t%.4e' %(d,n,v*1e9))\n",
    "print('----------------------------------------------------------------')    \n",
    "print('total\\t\\t\\t-\\t\\t%.4e' %np.sum(total_talk_large))\n",
    "    "
   ]
  },
  {
   "cell_type": "markdown",
   "metadata": {},
   "source": [
    "## Model description\n",
    "\n",
    "<b>Airborne concentration over time, $C(t)$ [RNA per m$^{-3}$], is the solution to</b>\n",
    "\n",
    "$\\frac{dC}{dt} = -\\Big(\\frac{Q}{V} + \\gamma_{\\text{air}} \\Big)C + \\frac{q_{\\text{aer}}}{V}$\n",
    "\n",
    "with $C(0) = c_0$\n",
    "\n",
    "where, \n",
    "\n",
    "$V,\\,Q =$ room volume [$m^3$] and ventilation rate [m$^3$ per min]\n",
    "\n",
    "$\\gamma_{\\text{air}} =$ pathogen decay rate (air) [per min] [van Doremalen et al. (2020)]\n",
    "\n",
    "and $q_{\\text{aer}} = \\phi \\times V_{\\text{small}} \\times (1 - m_{\\text{src, SD}})$\n",
    "\n",
    "$V_{\\text{small}}$ = volume of respiratory droplets with diameter 20 microns or less emitted in one minute due to counting loudly from 1 to 100 (Duguid 1946, see above table, volumes given in ul) [m$^3$ per min]\n",
    "\n",
    "$\\phi =$ respiratory viral load [RNA per m$^{-3}$] [Chen, Bobrovitz et al. (2021) - given there in ml]\n",
    "\n",
    "$m_{\\text{src, SD}} = $ infector mask efficacy for small droplets\n",
    "\n",
    "<b>Aerosol exposure after time $t$ min is then</b>\n",
    "\n",
    "$E(t) = (1 - m_{\\text{recip, SD}}) \\times p \\times \\int_{t_0}^{t_1} C(u)\\,du$\n",
    "\n",
    "$m_{\\text{recip, SD}} = $ mask efficacy (small droplets)\n",
    "\n",
    "$p =$ pulmonary rate (m$^3$ per min)"
   ]
  },
  {
   "cell_type": "code",
   "execution_count": 5,
   "metadata": {},
   "outputs": [],
   "source": [
    "def exposure_short_range(duration, #[min]\n",
    "                         viral_load, #[RNA per ml]\n",
    "                         eSR, #[ul per min]\n",
    "                         eLD, #[ul per min]\n",
    "                         mask_source_SD, #[]               \n",
    "                         mask_source_LD, #[]\n",
    "                         mask_recip_SD, #[]\n",
    "                         mask_recip_LD): #[]\n",
    "\n",
    "    dose = (1 - mask_source_LD) * eLD * (1 - mask_recip_LD) #[ul per min]\n",
    "    dose += (1 - mask_source_SD) * eSR * (1 - mask_recip_SD) #[ul per min]\n",
    "\n",
    "    dose *= viral_load * duration / 1000 #RNA\n",
    "    \n",
    "    return dose\n",
    "\n",
    "def exposure_long_range_aerosol(duration, #[min] \n",
    "                                 viral_load, #[RMA per ml]\n",
    "                                 vol_resp_fl_small_talking, #[ul per min]           \n",
    "                                 viral_conc_0, #[RNA per ml]\n",
    "                                 pulmonary_rate, #[m^3 per min]\n",
    "                                 gamma_air, #[per min]\n",
    "                                 mask_source_SD, #[]\n",
    "                                 mask_recip_SD, #[]\n",
    "                                 room_volume, #[m^3]\n",
    "                                 ventilation_rate): #[m^3 per min]\n",
    "\n",
    "    q = (1 - mask_source_SD) * vol_resp_fl_small_talking * viral_load / 1000     #RNA per min\n",
    "\n",
    "    a = q / room_volume #RNA per min per cubic metre\n",
    "    b = ventilation_rate / room_volume + gamma_air #per min\n",
    "\n",
    "    dose = xs_int(a, b, viral_conc_0, 0.0, duration)\n",
    "\n",
    "    np.multiply(dose, pulmonary_rate, out=dose)\n",
    "    np.multiply(dose, (1-mask_recip_SD), out=dose)\n",
    "\n",
    "    return dose\n",
    "\n",
    "def make_hist(log_A_e_sr, log_A_e_aer, log_A_e_total, log_B_e_aer, title):\n",
    "\n",
    "    fig, ax = plt.subplots(2,3)\n",
    "    fig.set_size_inches(20,12)\n",
    "\n",
    "    ax[0,0].hist(log_A_e_sr, bins=40, density=True)\n",
    "    ax[0,1].hist(log_A_e_aer, bins=40, density=True)\n",
    "    ax[0,2].hist(log_A_e_total, bins=40, density=True)\n",
    "\n",
    "    ax[1,1].hist(log_B_e_aer, bins=40, density=True)\n",
    "\n",
    "    fig.suptitle(title)\n",
    "    ax[0,0].set_title('short range droplets (A)')\n",
    "    ax[0,0].set_xlabel(r' $\\log_{10}$ RNA')\n",
    "    ax[0,1].set_title('long range aerosols (A)')\n",
    "    ax[0,2].set_title('total (A)')\n",
    "    ax[1,1].set_title('long range aerosols (B)')\n",
    "    plt.show()"
   ]
  },
  {
   "cell_type": "markdown",
   "metadata": {},
   "source": [
    "## 0. Baseline case"
   ]
  },
  {
   "cell_type": "code",
   "execution_count": 6,
   "metadata": {},
   "outputs": [],
   "source": [
    "room_area = 5.5*4 #m2\n",
    "room_height = 2.7 #m\n",
    "V = room_volume = room_area*room_height\n",
    "\n",
    "people = 3 #number of people\n",
    "litrespersecondperperson = 3 #stats.uniform.rvs(1, 5, size=(N,2)) #ventilation in l/s/person\n",
    "\n",
    "Q_0 = people * litrespersecondperperson * 60 / 1000 #total ventilation rate in m3/min\n",
    "\n",
    "#convert viral half lives (hr) to decay rate (min^-1)\n",
    "gamma = {k_:m.log(2)/(v_ * 60) for k_, v_ in zip(viral_half_lives.keys(),\n",
    "                           viral_half_lives.values())} #per min [van Doremalen (2020)]\n",
    "\n",
    "src_mask_LD = 0.0 #mask efficacy for large droplets\n",
    "src_mask_SD = 0.0 #mask efficacy for small droplets\n",
    "\n",
    "recip_mask_LD = 0.0 #mask efficacy for large droplets\n",
    "recip_mask_SD = 0.0 #mask efficacy for small droplets\n",
    "\n",
    "t = 30.0 #min\n",
    "viral_conc_0 = 0\n",
    "\n",
    "vl = viral_load( N, ranD )\n",
    "\n",
    "#pulmonary ventilation rates for A & B\n",
    "pA = 0.001 * pulmonary_rate(N, ranD) #m^3 per min\n",
    "pB = 0.001 * pulmonary_rate(N, ranD) #m^3 per min\n",
    "\n",
    "gamma_air = gamma['aerosol']\n",
    "vol_resp_fl_small_talking = np.sum(total_talk_small) #Chen2020 + Duguid1946"
   ]
  },
  {
   "cell_type": "code",
   "execution_count": 7,
   "metadata": {},
   "outputs": [
    {
     "name": "stdout",
     "output_type": "stream",
     "text": [
      "Room volume: 59.40 (m^3)\n",
      "Ventilation rate: 0.54 (m^3 per min), 0.55 (ACH)\n"
     ]
    }
   ],
   "source": [
    "Q = Q_0\n",
    "Q_ACH = 60*Q/V\n",
    "\n",
    "print( 'Room volume: %.2f (m^3)\\nVentilation rate: %.2f (m^3 per min), %.2f (ACH)'\n",
    "    %(V, Q, Q_ACH)\n",
    ")\n",
    "\n",
    "\n",
    "A_e_sr = exposure_short_range(t, vl, eSR[3], eLD[3], src_mask_SD, src_mask_LD, recip_mask_SD, recip_mask_LD)\n",
    "A_e_aer = exposure_long_range_aerosol(t, vl, vol_resp_fl_small_talking, 0.0, pA, gamma_air, src_mask_SD\n",
    "                                      , recip_mask_SD, V, Q)\n",
    "\n",
    "B_e_aer = exposure_long_range_aerosol(t, vl, vol_resp_fl_small_talking, 0.0, pB, gamma_air, src_mask_SD\n",
    "                                      , recip_mask_SD, V, Q)\n",
    "\n",
    "log_A_e_sr = np.log10(A_e_sr)\n",
    "log_A_e_aer = np.log10(A_e_aer)\n",
    "log_A_e_total = np.log10(A_e_sr + A_e_aer)\n",
    "\n",
    "log_B_e_aer = np.log10(B_e_aer)\n",
    "\n",
    "mean_exp_A = np.average(A_e_sr + A_e_aer)\n",
    "mean_exp_B = np.average(B_e_aer)"
   ]
  },
  {
   "cell_type": "markdown",
   "metadata": {},
   "source": [
    "## 1. Fourfold Increase ventilation rate"
   ]
  },
  {
   "cell_type": "code",
   "execution_count": 8,
   "metadata": {},
   "outputs": [
    {
     "name": "stdout",
     "output_type": "stream",
     "text": [
      "Room volume: 59.40 (m^3)\n",
      "Ventilation rate: 2.16 (m^3 per min), 2.18 (ACH)\n"
     ]
    }
   ],
   "source": [
    "Q = 4*Q_0\n",
    "Q_ACH = 60*Q/V\n",
    "\n",
    "print( 'Room volume: %.2f (m^3)\\nVentilation rate: %.2f (m^3 per min), %.2f (ACH)'\n",
    "    %(V, Q, Q_ACH)\n",
    ")\n",
    "\n",
    "#vl = viral_load( N, ranD )\n",
    "\n",
    "#pulmonary ventilation rates for A & B\n",
    "#pA = 0.001 * pulmonary_rate(N, ranD) #m^3 per min\n",
    "#pB = 0.001 * pulmonary_rate(N, ranD) #m^3 per min"
   ]
  },
  {
   "cell_type": "code",
   "execution_count": 9,
   "metadata": {},
   "outputs": [],
   "source": [
    "A_e_sr_1 = exposure_short_range(t, vl, eSR[3], eLD[3], src_mask_SD, src_mask_LD, recip_mask_SD, recip_mask_LD)\n",
    "A_e_aer_1 = exposure_long_range_aerosol(t, vl, vol_resp_fl_small_talking, 0.0, pA, gamma_air, src_mask_SD\n",
    "                                      , recip_mask_SD, V, Q)\n",
    "\n",
    "B_e_aer_1 = exposure_long_range_aerosol(t, vl, vol_resp_fl_small_talking, 0.0, pB, gamma_air, src_mask_SD\n",
    "                                      , recip_mask_SD, V, Q)\n",
    "\n",
    "log_A_e_sr_1 = np.log10(A_e_sr_1)\n",
    "log_A_e_aer_1 = np.log10(A_e_aer_1)\n",
    "log_A_e_total_1 = np.log10(A_e_sr_1 + A_e_aer_1)\n",
    "\n",
    "log_B_e_aer_1 = np.log10(B_e_aer_1)\n",
    "\n",
    "mean_exp_A_1 = np.average(A_e_sr_1 + A_e_aer_1)\n",
    "mean_exp_B_1 = np.average(B_e_aer_1)\n",
    "\n",
    "rel_reduct_A_1 = (mean_exp_A - mean_exp_A_1)/mean_exp_A * 100\n",
    "rel_reduct_B_1 = (mean_exp_B - mean_exp_B_1)/mean_exp_B * 100"
   ]
  },
  {
   "cell_type": "markdown",
   "metadata": {},
   "source": [
    "## 2. Infector wears face covering"
   ]
  },
  {
   "cell_type": "code",
   "execution_count": 10,
   "metadata": {},
   "outputs": [
    {
     "name": "stdout",
     "output_type": "stream",
     "text": [
      "Room volume: 59.40 (m^3)\n",
      "Ventilation rate: 0.54 (m^3 per min), 0.55 (ACH)\n"
     ]
    }
   ],
   "source": [
    "Q = Q_0\n",
    "Q_ACH = 60*Q/V\n",
    "\n",
    "print( 'Room volume: %.2f (m^3)\\nVentilation rate: %.2f (m^3 per min), %.2f (ACH)'\n",
    "    %(V, Q, Q_ACH)\n",
    ")\n",
    "\n",
    "#vl = viral_load( N, ranD )\n",
    "\n",
    "#pulmonary ventilation rates for A & B\n",
    "#pA = 0.001 * pulmonary_rate(N, ranD) #m^3 per min\n",
    "#pB = 0.001 * pulmonary_rate(N, ranD) #m^3 per min\n",
    "\n",
    "src_mask_LD = 0.99 #mask efficacy for large droplets\n",
    "src_mask_SD = 0.5 #mask efficacy for small droplets\n",
    "\n",
    "recip_mask_LD = 0.0 #mask efficacy for large droplets\n",
    "recip_mask_SD = 0.0 #mask efficacy for small droplets"
   ]
  },
  {
   "cell_type": "code",
   "execution_count": 11,
   "metadata": {},
   "outputs": [],
   "source": [
    "A_e_sr_2 = exposure_short_range(t, vl, eSR[3], eLD[3], src_mask_SD, src_mask_LD, recip_mask_SD, recip_mask_LD)\n",
    "A_e_aer_2 = exposure_long_range_aerosol(t, vl, vol_resp_fl_small_talking, 0.0, pA, gamma_air, src_mask_SD\n",
    "                                      , recip_mask_SD, V, Q)\n",
    "\n",
    "B_e_aer_2 = exposure_long_range_aerosol(t, vl, vol_resp_fl_small_talking, 0.0, pB, gamma_air, src_mask_SD\n",
    "                                      , recip_mask_SD, V, Q)\n",
    "\n",
    "log_A_e_sr_2 = np.log10(A_e_sr_2)\n",
    "log_A_e_aer_2 = np.log10(A_e_aer_2)\n",
    "log_A_e_total_2 = np.log10(A_e_sr_2 + A_e_aer_2)\n",
    "\n",
    "log_B_e_aer_2 = np.log10(B_e_aer_2)\n",
    "\n",
    "mean_exp_A_2 = np.average(A_e_sr_2 + A_e_aer_2)\n",
    "mean_exp_B_2 = np.average(B_e_aer_2)\n",
    "\n",
    "rel_reduct_A_2 = (mean_exp_A - mean_exp_A_2)/mean_exp_A * 100\n",
    "rel_reduct_B_2 = (mean_exp_B - mean_exp_B_2)/mean_exp_B * 100"
   ]
  },
  {
   "cell_type": "markdown",
   "metadata": {},
   "source": [
    "## 3. Susceptibles A and B wear face coverings"
   ]
  },
  {
   "cell_type": "code",
   "execution_count": 12,
   "metadata": {},
   "outputs": [
    {
     "name": "stdout",
     "output_type": "stream",
     "text": [
      "Room volume: 59.40 (m^3)\n",
      "Ventilation rate: 0.54 (m^3 per min), 0.55 (ACH)\n"
     ]
    }
   ],
   "source": [
    "Q = Q_0\n",
    "Q_ACH = 60*Q/V\n",
    "\n",
    "print( 'Room volume: %.2f (m^3)\\nVentilation rate: %.2f (m^3 per min), %.2f (ACH)'\n",
    "    %(V, Q, Q_ACH)\n",
    ")\n",
    "\n",
    "#vl = viral_load( N, ranD )\n",
    "\n",
    "#pulmonary ventilation rates for A & B\n",
    "#pA = 0.001 * pulmonary_rate(N, ranD) #m^3 per min\n",
    "#pB = 0.001 * pulmonary_rate(N, ranD) #m^3 per min\n",
    "\n",
    "src_mask_LD = 0.0 #mask efficacy for large droplets\n",
    "src_mask_SD = 0.0 #mask efficacy for small droplets\n",
    "\n",
    "recip_mask_LD = 0.99 #mask efficacy for large droplets\n",
    "recip_mask_SD = 0.5 #mask efficacy for small droplets"
   ]
  },
  {
   "cell_type": "code",
   "execution_count": 13,
   "metadata": {},
   "outputs": [],
   "source": [
    "A_e_sr_3 = exposure_short_range(t, vl, eSR[3], eLD[3], src_mask_SD, src_mask_LD, recip_mask_SD, recip_mask_LD)\n",
    "A_e_aer_3 = exposure_long_range_aerosol(t, vl, vol_resp_fl_small_talking, 0.0, pA, gamma_air, src_mask_SD\n",
    "                                      , recip_mask_SD, V, Q)\n",
    "\n",
    "B_e_aer_3 = exposure_long_range_aerosol(t, vl, vol_resp_fl_small_talking, 0.0, pB, gamma_air, src_mask_SD\n",
    "                                      , recip_mask_SD, V, Q)\n",
    "\n",
    "log_A_e_sr_3 = np.log10(A_e_sr_3)\n",
    "log_A_e_aer_3 = np.log10(A_e_aer_3)\n",
    "log_A_e_total_3 = np.log10(A_e_sr_3 + A_e_aer_3)\n",
    "\n",
    "log_B_e_aer_3 = np.log10(B_e_aer_3)\n",
    "\n",
    "mean_exp_A_3 = np.average(A_e_sr_3 + A_e_aer_3)\n",
    "mean_exp_B_3 = np.average(B_e_aer_3)\n",
    "\n",
    "rel_reduct_A_3 = (mean_exp_A - mean_exp_A_3)/mean_exp_A * 100\n",
    "rel_reduct_B_3 = (mean_exp_B - mean_exp_B_3)/mean_exp_B * 100"
   ]
  },
  {
   "cell_type": "markdown",
   "metadata": {},
   "source": [
    "## 4. Increased ventilation + infector wears face covering"
   ]
  },
  {
   "cell_type": "code",
   "execution_count": 14,
   "metadata": {},
   "outputs": [
    {
     "name": "stdout",
     "output_type": "stream",
     "text": [
      "Room volume: 59.40 (m^3)\n",
      "Ventilation rate: 2.16 (m^3 per min), 2.18 (ACH)\n"
     ]
    }
   ],
   "source": [
    "Q = 4*Q_0\n",
    "Q_ACH = 60*Q/V\n",
    "\n",
    "print( 'Room volume: %.2f (m^3)\\nVentilation rate: %.2f (m^3 per min), %.2f (ACH)'\n",
    "    %(V, Q, Q_ACH)\n",
    ")\n",
    "#vl = viral_load( N, ranD )\n",
    "\n",
    "#pulmonary ventilation rates for A & B\n",
    "#pA = 0.001 * pulmonary_rate(N, ranD) #m^3 per min\n",
    "#pB = 0.001 * pulmonary_rate(N, ranD) #m^3 per min\n",
    "\n",
    "src_mask_LD = 0.99 #mask efficacy for large droplets\n",
    "src_mask_SD = 0.5 #mask efficacy for small droplets\n",
    "\n",
    "recip_mask_LD = 0.0 #mask efficacy for large droplets\n",
    "recip_mask_SD = 0.0 #mask efficacy for small droplets"
   ]
  },
  {
   "cell_type": "code",
   "execution_count": 15,
   "metadata": {},
   "outputs": [],
   "source": [
    "A_e_sr_4 = exposure_short_range(t, vl, eSR[3], eLD[3], src_mask_SD, src_mask_LD, recip_mask_SD, recip_mask_LD)\n",
    "A_e_aer_4 = exposure_long_range_aerosol(t, vl, vol_resp_fl_small_talking, 0.0, pA, gamma_air, src_mask_SD\n",
    "                                      , recip_mask_SD, V, Q)\n",
    "\n",
    "B_e_aer_4 = exposure_long_range_aerosol(t, vl, vol_resp_fl_small_talking, 0.0, pB, gamma_air, src_mask_SD\n",
    "                                      , recip_mask_SD, V, Q)\n",
    "\n",
    "log_A_e_sr_4 = np.log10(A_e_sr_4)\n",
    "log_A_e_aer_4 = np.log10(A_e_aer_4)\n",
    "log_A_e_total_4 = np.log10(A_e_sr_4 + A_e_aer_4)\n",
    "\n",
    "log_B_e_aer_4 = np.log10(B_e_aer_4)\n",
    "\n",
    "mean_exp_A_4 = np.average(A_e_sr_4 + A_e_aer_4)\n",
    "mean_exp_B_4 = np.average(B_e_aer_4)\n",
    "\n",
    "rel_reduct_A_4 = (mean_exp_A - mean_exp_A_4)/mean_exp_A * 100\n",
    "rel_reduct_B_4 = (mean_exp_B - mean_exp_B_4)/mean_exp_B * 100"
   ]
  },
  {
   "cell_type": "markdown",
   "metadata": {},
   "source": [
    "## 5. Increased ventilation + susceptibles A&B wear face coverings"
   ]
  },
  {
   "cell_type": "code",
   "execution_count": 16,
   "metadata": {},
   "outputs": [
    {
     "name": "stdout",
     "output_type": "stream",
     "text": [
      "Room volume: 59.40 (m^3)\n",
      "Ventilation rate: 2.16 (m^3 per min), 2.18 (ACH)\n"
     ]
    }
   ],
   "source": [
    "Q = 4*Q_0\n",
    "Q_ACH = 60*Q/V\n",
    "\n",
    "print( 'Room volume: %.2f (m^3)\\nVentilation rate: %.2f (m^3 per min), %.2f (ACH)'\n",
    "    %(V, Q, Q_ACH)\n",
    ")\n",
    "#vl = viral_load( N, ranD )\n",
    "\n",
    "#pulmonary ventilation rates for A & B\n",
    "#pA = 0.001 * pulmonary_rate(N, ranD) #m^3 per min\n",
    "#pB = 0.001 * pulmonary_rate(N, ranD) #m^3 per min\n",
    "\n",
    "src_mask_LD = 0.0 #mask efficacy for large droplets\n",
    "src_mask_SD = 0.0 #mask efficacy for small droplets\n",
    "\n",
    "recip_mask_LD = 0.99 #mask efficacy for large droplets\n",
    "recip_mask_SD = 0.5 #mask efficacy for small droplets"
   ]
  },
  {
   "cell_type": "code",
   "execution_count": 17,
   "metadata": {},
   "outputs": [],
   "source": [
    "A_e_sr_5 = exposure_short_range(t, vl, eSR[3], eLD[3], src_mask_SD, src_mask_LD, recip_mask_SD, recip_mask_LD)\n",
    "A_e_aer_5 = exposure_long_range_aerosol(t, vl, vol_resp_fl_small_talking, 0.0, pA, gamma_air, src_mask_SD\n",
    "                                      , recip_mask_SD, V, Q)\n",
    "\n",
    "B_e_aer_5 = exposure_long_range_aerosol(t, vl, vol_resp_fl_small_talking, 0.0, pB, gamma_air, src_mask_SD\n",
    "                                      , recip_mask_SD, V, Q)\n",
    "\n",
    "log_A_e_sr_5 = np.log10(A_e_sr_5)\n",
    "log_A_e_aer_5 = np.log10(A_e_aer_5)\n",
    "log_A_e_total_5 = np.log10(A_e_sr_5 + A_e_aer_5)\n",
    "\n",
    "log_B_e_aer_5 = np.log10(B_e_aer_5)\n",
    "\n",
    "mean_exp_A_5 = np.average(A_e_sr_5 + A_e_aer_5)\n",
    "mean_exp_B_5 = np.average(B_e_aer_5)\n",
    "\n",
    "rel_reduct_A_5 = (mean_exp_A - mean_exp_A_5)/mean_exp_A * 100\n",
    "rel_reduct_B_5 = (mean_exp_B - mean_exp_B_5)/mean_exp_B * 100"
   ]
  },
  {
   "cell_type": "markdown",
   "metadata": {},
   "source": [
    "## 6. Infector + susceptibles A&B wear face coverings"
   ]
  },
  {
   "cell_type": "code",
   "execution_count": 18,
   "metadata": {},
   "outputs": [
    {
     "name": "stdout",
     "output_type": "stream",
     "text": [
      "Room volume: 59.40 (m^3)\n",
      "Ventilation rate: 0.54 (m^3 per min), 0.55 (ACH)\n"
     ]
    }
   ],
   "source": [
    "Q = Q_0\n",
    "Q_ACH = 60*Q/V\n",
    "\n",
    "print( 'Room volume: %.2f (m^3)\\nVentilation rate: %.2f (m^3 per min), %.2f (ACH)'\n",
    "    %(V, Q, Q_ACH)\n",
    ")\n",
    "#vl = viral_load( N, ranD )\n",
    "\n",
    "#pulmonary ventilation rates for A & B\n",
    "#pA = 0.001 * pulmonary_rate(N, ranD) #m^3 per min\n",
    "#pB = 0.001 * pulmonary_rate(N, ranD) #m^3 per min\n",
    "\n",
    "src_mask_LD = 0.99 #mask efficacy for large droplets\n",
    "src_mask_SD = 0.5 #mask efficacy for small droplets\n",
    "\n",
    "recip_mask_LD = 0.99 #mask efficacy for large droplets\n",
    "recip_mask_SD = 0.5 #mask efficacy for small droplets"
   ]
  },
  {
   "cell_type": "code",
   "execution_count": 19,
   "metadata": {},
   "outputs": [],
   "source": [
    "A_e_sr_6 = exposure_short_range(t, vl, eSR[3], eLD[3], src_mask_SD, src_mask_LD, recip_mask_SD, recip_mask_LD)\n",
    "A_e_aer_6 = exposure_long_range_aerosol(t, vl, vol_resp_fl_small_talking, 0.0, pA, gamma_air, src_mask_SD\n",
    "                                      , recip_mask_SD, V, Q)\n",
    "\n",
    "B_e_aer_6 = exposure_long_range_aerosol(t, vl, vol_resp_fl_small_talking, 0.0, pB, gamma_air, src_mask_SD\n",
    "                                      , recip_mask_SD, V, Q)\n",
    "\n",
    "log_A_e_sr_6 = np.log10(A_e_sr_6)\n",
    "log_A_e_aer_6 = np.log10(A_e_aer_6)\n",
    "log_A_e_total_6 = np.log10(A_e_sr_6 + A_e_aer_6)\n",
    "\n",
    "log_B_e_aer_6 = np.log10(B_e_aer_6)\n",
    "\n",
    "mean_exp_A_6 = np.average(A_e_sr_6 + A_e_aer_6)\n",
    "mean_exp_B_6 = np.average(B_e_aer_6)\n",
    "\n",
    "rel_reduct_A_6 = (mean_exp_A - mean_exp_A_6)/mean_exp_A * 100\n",
    "rel_reduct_B_6 = (mean_exp_B - mean_exp_B_6)/mean_exp_B * 100"
   ]
  },
  {
   "cell_type": "markdown",
   "metadata": {},
   "source": [
    "## 7. Increased ventilation + infector + susceptibles A&B wear face coverings"
   ]
  },
  {
   "cell_type": "code",
   "execution_count": 20,
   "metadata": {},
   "outputs": [
    {
     "name": "stdout",
     "output_type": "stream",
     "text": [
      "Room volume: 59.40 (m^3)\n",
      "Ventilation rate: 2.16 (m^3 per min), 2.18 (ACH)\n"
     ]
    }
   ],
   "source": [
    "Q = 4*Q_0\n",
    "Q_ACH = 60*Q/V\n",
    "\n",
    "print( 'Room volume: %.2f (m^3)\\nVentilation rate: %.2f (m^3 per min), %.2f (ACH)'\n",
    "    %(V, Q, Q_ACH)\n",
    ")\n",
    "#vl = viral_load( N, ranD )\n",
    "\n",
    "#pulmonary ventilation rates for A & B\n",
    "#pA = 0.001 * pulmonary_rate(N, ranD) #m^3 per min\n",
    "#pB = 0.001 * pulmonary_rate(N, ranD) #m^3 per min\n",
    "\n",
    "src_mask_LD = 0.99 #mask efficacy for large droplets\n",
    "src_mask_SD = 0.5 #mask efficacy for small droplets\n",
    "\n",
    "recip_mask_LD = 0.99 #mask efficacy for large droplets\n",
    "recip_mask_SD = 0.5 #mask efficacy for small droplets"
   ]
  },
  {
   "cell_type": "code",
   "execution_count": 21,
   "metadata": {},
   "outputs": [],
   "source": [
    "A_e_sr_7 = exposure_short_range(t, vl, eSR[3], eLD[3], src_mask_SD, src_mask_LD, recip_mask_SD, recip_mask_LD)\n",
    "A_e_aer_7 = exposure_long_range_aerosol(t, vl, vol_resp_fl_small_talking, 0.0, pA, gamma_air, src_mask_SD\n",
    "                                      , recip_mask_SD, V, Q)\n",
    "\n",
    "B_e_aer_7 = exposure_long_range_aerosol(t, vl, vol_resp_fl_small_talking, 0.0, pB, gamma_air, src_mask_SD\n",
    "                                      , recip_mask_SD, V, Q)\n",
    "\n",
    "log_A_e_sr_7 = np.log10(A_e_sr_7)\n",
    "log_A_e_aer_7 = np.log10(A_e_aer_7)\n",
    "log_A_e_total_7 = np.log10(A_e_sr_7 + A_e_aer_7)\n",
    "\n",
    "log_B_e_aer_7 = np.log10(B_e_aer_7)\n",
    "\n",
    "mean_exp_A_7 = np.average(A_e_sr_7 + A_e_aer_7)\n",
    "mean_exp_B_7 = np.average(B_e_aer_7)\n",
    "\n",
    "rel_reduct_A_7 = (mean_exp_A - mean_exp_A_7)/mean_exp_A * 100\n",
    "rel_reduct_B_7 = (mean_exp_B - mean_exp_B_7)/mean_exp_B * 100"
   ]
  },
  {
   "cell_type": "markdown",
   "metadata": {},
   "source": [
    "## Probability of exposure to 1,10,100 RNA copies"
   ]
  },
  {
   "cell_type": "code",
   "execution_count": 22,
   "metadata": {},
   "outputs": [],
   "source": [
    "P_A = np.sum(np.greater_equal(log_A_e_total[::,np.newaxis], [0,1,2]),axis=0) / log_A_e_total.size\n",
    "P_B = np.sum(np.greater_equal(log_B_e_aer[::,np.newaxis], [0,1,2]),axis=0) / log_B_e_aer.size\n",
    "\n",
    "P_A_1 = np.sum(np.greater_equal(log_A_e_total_1[::,np.newaxis], [0,1,2]),axis=0) / log_A_e_total_1.size\n",
    "P_B_1 = np.sum(np.greater_equal(log_B_e_aer_1[::,np.newaxis], [0,1,2]),axis=0) / log_B_e_aer_1.size\n",
    "\n",
    "P_A_2 = np.sum(np.greater_equal(log_A_e_total_2[::,np.newaxis], [0,1,2]),axis=0) / log_A_e_total_2.size\n",
    "P_B_2 = np.sum(np.greater_equal(log_B_e_aer_2[::,np.newaxis], [0,1,2]),axis=0) / log_B_e_aer_2.size\n",
    "\n",
    "P_A_3 = np.sum(np.greater_equal(log_A_e_total_3[::,np.newaxis], [0,1,2]),axis=0) / log_A_e_total_3.size\n",
    "P_B_3 = np.sum(np.greater_equal(log_B_e_aer_3[::,np.newaxis], [0,1,2]),axis=0) / log_B_e_aer_3.size\n",
    "\n",
    "P_A_4 = np.sum(np.greater_equal(log_A_e_total_4[::,np.newaxis], [0,1,2]),axis=0) / log_A_e_total_4.size\n",
    "P_B_4 = np.sum(np.greater_equal(log_B_e_aer_4[::,np.newaxis], [0,1,2]),axis=0) / log_B_e_aer_4.size\n",
    "\n",
    "P_A_5 = np.sum(np.greater_equal(log_A_e_total_5[::,np.newaxis], [0,1,2]),axis=0) / log_A_e_total_5.size\n",
    "P_B_5 = np.sum(np.greater_equal(log_B_e_aer_5[::,np.newaxis], [0,1,2]),axis=0) / log_B_e_aer_5.size\n",
    "\n",
    "P_A_6 = np.sum(np.greater_equal(log_A_e_total_6[::,np.newaxis], [0,1,2]),axis=0) / log_A_e_total_6.size\n",
    "P_B_6 = np.sum(np.greater_equal(log_B_e_aer_6[::,np.newaxis], [0,1,2]),axis=0) / log_B_e_aer_6.size\n",
    "\n",
    "P_A_7 = np.sum(np.greater_equal(log_A_e_total_7[::,np.newaxis], [0,1,2]),axis=0) / log_A_e_total_7.size\n",
    "P_B_7 = np.sum(np.greater_equal(log_B_e_aer_7[::,np.newaxis], [0,1,2]),axis=0) / log_B_e_aer_7.size"
   ]
  },
  {
   "cell_type": "code",
   "execution_count": 23,
   "metadata": {
    "scrolled": true
   },
   "outputs": [
    {
     "name": "stdout",
     "output_type": "stream",
     "text": [
      "          intervention susceptible    P(>=1)   P(>=10)  P(>=100)\n",
      "0             baseline           A  0.314715     0.165  0.069265\n",
      "1                +vent           A  0.307595  0.159765   0.06609\n",
      "2           mask (inf)           A   0.26476  0.129815  0.050325\n",
      "3          mask (susc)           A   0.26476  0.129815  0.050325\n",
      "4   +vent & mask (inf)           A  0.257955    0.1254   0.04796\n",
      "5  +vent & mask (susc)           A  0.257955    0.1254   0.04796\n",
      "6           mask (all)           A  0.218495    0.1003   0.03562\n",
      "7   +vent & mask (all)           A  0.212535   0.09674  0.033905\n",
      "----------------------------------------------------------\n",
      "           intervention susceptible    P(>=1)   P(>=10)  P(>=100)\n",
      "8              baseline           B   0.25636   0.12478   0.04748\n",
      "9                 +vent           B   0.24088  0.114555   0.04246\n",
      "10           mask (inf)           B  0.211535  0.096205  0.033685\n",
      "11          mask (susc)           B  0.211535  0.096205  0.033685\n",
      "12   +vent & mask (inf)           B  0.197645  0.087985  0.030005\n",
      "13  +vent & mask (susc)           B  0.197645  0.087985  0.030005\n",
      "14           mask (all)           B  0.170885  0.072525  0.023285\n",
      "15   +vent & mask (all)           B  0.158155  0.065515   0.02042\n"
     ]
    }
   ],
   "source": [
    "import pandas as pd\n",
    "\n",
    "intervention = np.tile(['baseline'\n",
    "                ,'+vent'\n",
    "                ,'mask (inf)'\n",
    "                ,'mask (susc)'\n",
    "                ,'+vent & mask (inf)'\n",
    "                ,'+vent & mask (susc)'\n",
    "                ,'mask (all)'\n",
    "                ,'+vent & mask (all)'\n",
    "               ],2)[::,np.newaxis]\n",
    "\n",
    "susceptible = np.repeat(['A','B'],8)[::,np.newaxis]\n",
    "\n",
    "dat_ = np.vstack( (P_A, P_A_1, P_A_2, P_A_3\n",
    "                    ,P_A_4, P_A_5, P_A_6, P_A_7\n",
    "                    ,P_B, P_B_1, P_B_2, P_B_3\n",
    "                   ,P_B_4, P_B_5, P_B_6, P_B_7\n",
    "                  ))\n",
    "\n",
    "dat = np.concatenate((intervention, susceptible, dat_), axis=1)\n",
    "tab = pd.DataFrame(data=dat, columns=['intervention', 'susceptible','P(>=1)','P(>=10)','P(>=100)'])\n",
    "print(tab[susceptible=='A'])\n",
    "print('----------------------------------------------------------')\n",
    "print(tab[susceptible=='B'])\n"
   ]
  },
  {
   "cell_type": "markdown",
   "metadata": {},
   "source": [
    "## Relative reduction in exposure due to interventions (%)"
   ]
  },
  {
   "cell_type": "code",
   "execution_count": 24,
   "metadata": {},
   "outputs": [
    {
     "name": "stdout",
     "output_type": "stream",
     "text": [
      "intervention\t\tperson A (@1.5m)\tperson B (> 2m)\n",
      "---------------------------------------------------------------\n",
      "+vent\t\t\t9.14\t\t\t20.61\n",
      "mask (inf)\t\t50.11\t\t\t50.00\n",
      "mask (susc)\t\t50.11\t\t\t50.00\n",
      "+vent & mask (inf)\t54.68\t\t\t60.31\n",
      "+vent & mask (susc)\t54.68\t\t\t60.31\n",
      "mask (all)\t\t75.06\t\t\t75.00\n",
      "+vent & mask (all)\t77.34\t\t\t80.15\n"
     ]
    }
   ],
   "source": [
    "intervention = ['+vent\\t\\t'\n",
    "                ,'mask (inf)\\t'\n",
    "                ,'mask (susc)\\t'\n",
    "                ,'+vent & mask (inf)'\n",
    "                ,'+vent & mask (susc)'\n",
    "                ,'mask (all)\\t'\n",
    "                ,'+vent & mask (all)']\n",
    "\n",
    "dat_A = [rel_reduct_A_1, rel_reduct_A_2, rel_reduct_A_3, rel_reduct_A_4\n",
    "        , rel_reduct_A_5, rel_reduct_A_6, rel_reduct_A_7]\n",
    "\n",
    "dat_B = [rel_reduct_B_1, rel_reduct_B_2, rel_reduct_B_3, rel_reduct_B_4\n",
    "        , rel_reduct_B_5, rel_reduct_B_6, rel_reduct_B_7]\n",
    "\n",
    "print('intervention\\t\\tperson A (@1.5m)\\tperson B (> 2m)')\n",
    "print('---------------------------------------------------------------')\n",
    "for int_, dA, dB in zip(intervention, dat_A, dat_B):\n",
    "    print('%s\\t%.2f\\t\\t\\t%.2f' %(int_, dA, dB))\n",
    "\n",
    "\n"
   ]
  },
  {
   "cell_type": "code",
   "execution_count": 30,
   "metadata": {},
   "outputs": [
    {
     "data": {
      "image/png": "[encoded data removed]",
      "text/plain": [
       "<Figure size 576x288 with 2 Axes>"
      ]
     },
     "metadata": {
      "needs_background": "light"
     },
     "output_type": "display_data"
    }
   ],
   "source": [
    "logdoseA = [log_A_e_total, log_A_e_total_1, log_A_e_total_2, log_A_e_total_3, log_A_e_total_4\n",
    "            , log_A_e_total_5, log_A_e_total_6, log_A_e_total_7]\n",
    "logdoseB = [log_B_e_aer, log_B_e_aer_1, log_B_e_aer_2, log_B_e_aer_3, log_B_e_aer_4\n",
    "            , log_B_e_aer_5, log_B_e_aer_6, log_B_e_aer_7]\n",
    "\n",
    "#for l in logdose:\n",
    "#    print(np.median(l))\n",
    "\n",
    "fig, ax = plt.subplots(1,2,sharey=True)\n",
    "fig.set_size_inches(8, 4)\n",
    "#fig.set_size_inches(20,12)\n",
    "\n",
    "parts = ax[0].violinplot( logdoseA, showmedians=True, showmeans=False, showextrema=True )\n",
    "for p in parts['bodies']:\n",
    "    p.set_facecolor('lightcoral')\n",
    "    p.set_edgecolor('black')\n",
    "    p.set_alpha(1)\n",
    "\n",
    "parts = ax[1].violinplot( logdoseB, showmedians=True, showmeans=False, showextrema=True )\n",
    "for p in parts['bodies']:\n",
    "    p.set_facecolor('lightcoral')\n",
    "    p.set_edgecolor('black')\n",
    "    p.set_alpha(1)\n",
    "\n",
    "ax[0].set_xticks([1,2,3,4,5,6,7,8])\n",
    "ax[1].set_xticks([1,2,3,4,5,6,7,8])\n",
    "ax[0].set_xticklabels(['baseline'\n",
    "                ,'+vent'\n",
    "                ,'mask (inf)'\n",
    "                ,'mask (susc)'\n",
    "                ,'+vent & mask (inf)'\n",
    "                ,'+vent & mask (susc)'\n",
    "                ,'mask (all)'\n",
    "                ,'+vent & mask (all)'],rotation='vertical')\n",
    "ax[1].set_xticklabels(['baseline'\n",
    "                ,'+vent'\n",
    "                ,'mask (inf)'\n",
    "                ,'mask (susc)'\n",
    "                ,'+vent & mask (inf)'\n",
    "                ,'+vent & mask (susc)'\n",
    "                ,'mask (all)'\n",
    "                ,'+vent & mask (all)'],rotation='vertical')\n",
    "\n",
    "ax[0].set_ylabel(r'$\\log_{10}$ RNA')\n",
    "ax[0].set_title('person A (at 1.5m)')\n",
    "ax[1].set_title('person B (> 2m)')\n",
    "\n",
    "fig.savefig('masks_and_ventilation')\n",
    "    \n",
    "plt.show()"
   ]
  }
 ],
 "metadata": {
  "kernelspec": {
   "display_name": "Python 3",
   "language": "python",
   "name": "python3"
  },
  "language_info": {
   "codemirror_mode": {
    "name": "ipython",
    "version": 3
   },
   "file_extension": ".py",
   "mimetype": "text/x-python",
   "name": "python",
   "nbconvert_exporter": "python",
   "pygments_lexer": "ipython3",
   "version": "3.8.5"
  }
 },
 "nbformat": 4,
 "nbformat_minor": 4
}
