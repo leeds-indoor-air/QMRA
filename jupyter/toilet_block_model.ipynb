{
 "cells": [
  {
   "cell_type": "code",
   "execution_count": 1,
   "metadata": {},
   "outputs": [
    {
     "name": "stdout",
     "output_type": "stream",
     "text": [
      "seed: 1627573236\n"
     ]
    }
   ],
   "source": [
    "import time\n",
    "import numpy as np\n",
    "import math as m\n",
    "import sys\n",
    "import datetime\n",
    "%matplotlib inline\n",
    "from matplotlib import pyplot as plt\n",
    "\n",
    "import queue_model_fns as qu\n",
    "from van_Doremalen_2020 import viral_half_lives\n",
    "from Duguid_1946 import total_talk_small\n",
    "import first_order_ODE as foode\n",
    "from pulmonary_rate import pulmonary_rate\n",
    "\n",
    "#seed random number generator\n",
    "seed = int(time.time())\n",
    "rD = np.random.default_rng(seed)\n",
    "print('seed:',seed)"
   ]
  },
  {
   "cell_type": "markdown",
   "metadata": {},
   "source": [
    "## Set up\n",
    "\n",
    "- Simulates usage of m-cubicle toilet block by a population with a background prevalence of an airborne infectious disease\n",
    "- simulation period is 24hr, midnight to midnight\n",
    "- arrivals are Markovian (with rate depending on time of day)\n",
    "- general residence time distribution\n",
    "- if someone arrives and all m cubicles are occupied, they join a queue\n",
    "\n",
    "Calculates: \n",
    "- airborne pathogen concentration over the period\n",
    "- pathogen exposure for each susceptible visitor + probability of infection\n",
    "- expected total 2nd-ary infections over period\n",
    "\n",
    "Where we are being naive:\n",
    "- no account taken of fomite transmission\n",
    "- we assume everyone uses toilet block for same purpose (so no washing, washing of clothes or other uses)\n",
    "- we assume a very large population uses the block, with no one making repeat visits\n",
    "- no mitigations"
   ]
  },
  {
   "cell_type": "markdown",
   "metadata": {},
   "source": [
    "### Background disease prevalence rate - change this (value between 0 and 1)"
   ]
  },
  {
   "cell_type": "code",
   "execution_count": 2,
   "metadata": {},
   "outputs": [],
   "source": [
    "prev = 0.1"
   ]
  },
  {
   "cell_type": "markdown",
   "metadata": {},
   "source": [
    "### Buidling parameters - change these at will!"
   ]
  },
  {
   "cell_type": "code",
   "execution_count": 3,
   "metadata": {},
   "outputs": [],
   "source": [
    "V = 1.5 * 5 * 2 #cubic metres\n",
    "\n",
    "cubs = 4 #number of cubicles\n",
    "\n",
    "people = 4\n",
    "litrespersecondperperson = 0.25"
   ]
  },
  {
   "cell_type": "code",
   "execution_count": 4,
   "metadata": {},
   "outputs": [
    {
     "name": "stdout",
     "output_type": "stream",
     "text": [
      "Building volume: 15.00 (m^3)\n",
      "Ventilation rate: 3.60 (m^3 per hour), 0.24 (air changes per hour)\n"
     ]
    }
   ],
   "source": [
    "Q = people * litrespersecondperperson * 60 * 60/ 1000 #total ventilation rate in m3/hour\n",
    "Q_ACH = Q / V\n",
    "print('Building volume: %.2f (m^3)' %V)\n",
    "print('Ventilation rate: %.2f (m^3 per hour), %.2f (air changes per hour)' %(Q, Q_ACH))"
   ]
  },
  {
   "cell_type": "markdown",
   "metadata": {},
   "source": [
    "### Decay rate of SARS-CoV-2 in aerosols [hour$^{-1}$] (van Doremalen 2020) - does not apply generally, so keep or change"
   ]
  },
  {
   "cell_type": "code",
   "execution_count": 5,
   "metadata": {},
   "outputs": [
    {
     "name": "stdout",
     "output_type": "stream",
     "text": [
      "gamma_air: 0.63 (per hour)\n"
     ]
    }
   ],
   "source": [
    "gamma = {k_:m.log(2)/(v_) for k_, v_ in zip(viral_half_lives.keys(),\n",
    "                                                 viral_half_lives.values())} #per hour [van Doremalen (2020)]\n",
    "\n",
    "gamma_air = gamma['aerosol']\n",
    "print('gamma_air: %.2f (per hour)' %gamma_air)"
   ]
  },
  {
   "cell_type": "markdown",
   "metadata": {},
   "source": [
    "### Quanta emission rate - change this"
   ]
  },
  {
   "cell_type": "code",
   "execution_count": 6,
   "metadata": {},
   "outputs": [],
   "source": [
    "qer = 30.0 #per hour"
   ]
  },
  {
   "cell_type": "markdown",
   "metadata": {},
   "source": [
    "### Residence time distribution\n",
    "\n",
    "Naively gamma-distributed with mean approx. 6 mins.  However, we can make this more sophisticated by e.g. calibrating from Ghana data and taking into account different modes of usage, such as washing vs. toileting."
   ]
  },
  {
   "cell_type": "code",
   "execution_count": 7,
   "metadata": {},
   "outputs": [
    {
     "data": {
      "image/png": "[encoded data removed]",
      "text/plain": [
       "<Figure size 432x288 with 1 Axes>"
      ]
     },
     "metadata": {
      "needs_background": "light"
     },
     "output_type": "display_data"
    }
   ],
   "source": [
    "def residence_time(rD):\n",
    "    return rD.gamma(shape=1.1, scale=1.0/10)\n",
    "\n",
    "residence_times_hist = [residence_time(rD) for i in range(5000)]\n",
    "plt.hist(residence_times_hist, bins=40)\n",
    "plt.xlabel('time (hours)')\n",
    "plt.ylabel('frequency')\n",
    "plt.show()\n"
   ]
  },
  {
   "cell_type": "markdown",
   "metadata": {},
   "source": [
    "### Arrival pattern - change this\n",
    "\n",
    "Just made this up, but again, can play with this and/or use Ghana data"
   ]
  },
  {
   "cell_type": "code",
   "execution_count": 8,
   "metadata": {},
   "outputs": [],
   "source": [
    "'''\n",
    "very quiet: midnight to 6am\n",
    "busy: 6am to 9am\n",
    "quiet: 9am to 6pm\n",
    "busy: 6pm to 10pm\n",
    "quiet: 10pm to midnight\n",
    "'''\n",
    "\n",
    "very_quiet_rate = 0.5 #per hour\n",
    "quiet_rate = 3.0 #per hour\n",
    "busy_rate = 25.0 #per hour"
   ]
  },
  {
   "cell_type": "markdown",
   "metadata": {},
   "source": [
    "## Run simulation"
   ]
  },
  {
   "cell_type": "markdown",
   "metadata": {},
   "source": [
    "### 1. Simulate arrivals and usage"
   ]
  },
  {
   "cell_type": "code",
   "execution_count": 9,
   "metadata": {},
   "outputs": [],
   "source": [
    "arrivals = []\n",
    "\n",
    "qu.simulate_arrivals(very_quiet_rate, 0.0, 6.0, prev, arrivals, rD)\n",
    "qu.simulate_arrivals(busy_rate, 6.0, 9.0, prev, arrivals, rD)\n",
    "qu.simulate_arrivals(quiet_rate, 9.0, 18.0, prev, arrivals, rD)\n",
    "qu.simulate_arrivals(busy_rate, 18.0, 22.0, prev, arrivals, rD)\n",
    "qu.simulate_arrivals(quiet_rate, 22.0, 24.0, prev, arrivals, rD)"
   ]
  },
  {
   "cell_type": "code",
   "execution_count": 10,
   "metadata": {},
   "outputs": [],
   "source": [
    "out_str = []\n",
    "t, occ, inf, que, arrive_depart = qu.simulate_usage(cubs, arrivals, residence_time, out_str, rD)"
   ]
  },
  {
   "cell_type": "code",
   "execution_count": 11,
   "metadata": {},
   "outputs": [],
   "source": [
    "#Uncomment below if you want to see simulated usage pattern listed\n",
    "#for str in out_str:\n",
    "#        print(str)\n",
    "        "
   ]
  },
  {
   "cell_type": "markdown",
   "metadata": {},
   "source": [
    "### 2. Calculate airborne concentration [quanta m$^{-3}$] at each change in occupancy"
   ]
  },
  {
   "cell_type": "code",
   "execution_count": 12,
   "metadata": {},
   "outputs": [],
   "source": [
    "a =  qer / V\n",
    "b = (Q/V + gamma_air)\n",
    "C = qu.calculate_concentrations( t, inf, a, b, 0.0 )"
   ]
  },
  {
   "cell_type": "markdown",
   "metadata": {},
   "source": [
    "### 3. Calculate each person's exposure [quanta]"
   ]
  },
  {
   "cell_type": "markdown",
   "metadata": {},
   "source": [
    "#### notes\n",
    "\n",
    "Gammaitoni and Nucci's model [Beggs, et al. 2003] in terms of airborne *concentration* rather than absolute airborne pathogen load is\n",
    "\n",
    "\\begin{align}\n",
    "\\frac{dS}{dt} &= - p\\,C\\,S\\\\\n",
    "\\frac{dC}{dt} &= \\frac{q}{V} - (\\frac{Q}{V} + \\gamma_{\\text{air}})\\,C\\\\\n",
    "\\end{align}\n",
    "\n",
    "where\n",
    "\n",
    "$S = $ number of susceptibles\n",
    "\n",
    "$C = $ airborne concentration [quanta per m${^3}$] \n",
    "\n",
    "$p = $ pulmonary ventilation rate [m${^3}$ per hour]\n",
    "\n",
    "$Q = $ ventilation rate [m${^3}$ per hour]\n",
    "\n",
    "$V = $ room volume [m${^3}$]\n",
    "\n",
    "$\\gamma_{\\text{air}} = $ pathogen decay rate in aerosols [per hour]\n",
    "\n",
    "$q = $ emission rate [quanta].\n",
    "\n",
    "\n",
    "Adapting to discrete infections, note that hazard of infection, per susceptible, is\n",
    "\n",
    "\\begin{equation}\n",
    "h(t) = p\\,C(t)\n",
    "\\end{equation}\n",
    "\n",
    "and, therefore, probability of infection due to exposure to concentration $C(t)$ between $t_0$ and $t_1$ is\n",
    "\n",
    "\\begin{align}\n",
    "    P_{\\text{inf}} &= 1 - \\exp\\left\\{-\\int_{t_0}^{t_1} h(t)\\,dt\\right\\}\\\\\n",
    "    & = 1 - \\exp\\left\\{-p\\int_{t_0}^{t_1} C(t)\\,dt\\right\\}.\\\\\n",
    "\\end{align}\n",
    "\n",
    "E.g. total exposure to 1 quantum leads to infection with probability $1 - e^{-1} = 0.632$.\n",
    "\n",
    "Integral is performed by function `calculate_exposures` in `queue_model_fns`"
   ]
  },
  {
   "cell_type": "code",
   "execution_count": 13,
   "metadata": {},
   "outputs": [],
   "source": [
    "pulmonary_rates = pulmonary_rate( len(arrive_depart), rD) / 1000.0\n",
    "E = np.array( qu.calculate_exposures( pulmonary_rates, arrive_depart, t, C, inf, a, b ) )"
   ]
  },
  {
   "cell_type": "markdown",
   "metadata": {},
   "source": [
    "## View outputs"
   ]
  },
  {
   "cell_type": "markdown",
   "metadata": {},
   "source": [
    "### 1. Occupancy & airborne concentration"
   ]
  },
  {
   "cell_type": "code",
   "execution_count": 14,
   "metadata": {},
   "outputs": [
    {
     "data": {
      "image/png": "[encoded data removed]",
      "text/plain": [
       "<Figure size 1296x360 with 2 Axes>"
      ]
     },
     "metadata": {
      "needs_background": "light"
     },
     "output_type": "display_data"
    }
   ],
   "source": [
    "fig, ax = plt.subplots(1,2,sharex=True)\n",
    "\n",
    "fig.set_size_inches( (18,5) )\n",
    "\n",
    "ax[0].step(t, occ, 'g-', where='post', label='occupants', alpha=0.6)\n",
    "ax[0].step(t, inf, 'r-', where='post', label='infected', alpha=0.6)\n",
    "ax[0].step(t, que, 'b-', where='post', label='queue', alpha=0.6)\n",
    "ax[0].legend( loc='upper left' )\n",
    "\n",
    "ax[1].plot(t, C, 'k-')\n",
    "\n",
    "ax[0].set_xlabel('time (hr)')\n",
    "ax[0].set_title('occupancy (people)')\n",
    "ax[1].set_title(r'airborne concentration (quanta m$^{-3}$)')\n",
    "\n",
    "plt.show()"
   ]
  },
  {
   "cell_type": "markdown",
   "metadata": {},
   "source": [
    "### 2. Exposure"
   ]
  },
  {
   "cell_type": "code",
   "execution_count": 15,
   "metadata": {},
   "outputs": [
    {
     "name": "stdout",
     "output_type": "stream",
     "text": [
      "time entered\ttime left\ttime spent\texposure (quanta)\tP(inf)\n",
      "--------------------------------------------------------------------------------------\n",
      "(susceptibles only)\n",
      "\n",
      "1:59:31\t\t2:06:00\t\t0:06:28\t\t0.00000000\t\t0.0000\n",
      "6:02:43\t\t6:05:01\t\t0:02:18\t\t0.00000761\t\t0.0000\n",
      "6:07:25\t\t6:23:28\t\t0:16:02\t\t0.00003334\t\t0.0000\n",
      "6:07:39\t\t6:08:14\t\t0:00:34\t\t0.00000172\t\t0.0000\n",
      "6:10:36\t\t6:11:54\t\t0:01:17\t\t0.00000199\t\t0.0000\n",
      "6:11:57\t\t6:13:18\t\t0:01:21\t\t0.00000227\t\t0.0000\n",
      "6:12:47\t\t6:14:14\t\t0:01:26\t\t0.00000297\t\t0.0000\n",
      "6:15:58\t\t6:16:51\t\t0:00:52\t\t0.00000233\t\t0.0000\n",
      "6:18:14\t\t6:22:27\t\t0:04:13\t\t0.00001019\t\t0.0000\n",
      "6:19:15\t\t6:22:16\t\t0:03:01\t\t0.00000504\t\t0.0000\n",
      "6:30:32\t\t6:34:35\t\t0:04:03\t\t0.00000866\t\t0.0000\n",
      "6:31:05\t\t6:31:13\t\t0:00:08\t\t0.00000016\t\t0.0000\n",
      "6:32:41\t\t6:34:27\t\t0:01:45\t\t0.00000246\t\t0.0000\n",
      "6:39:27\t\t6:45:57\t\t0:06:30\t\t0.00061627\t\t0.0006\n",
      "6:39:48\t\t6:41:18\t\t0:01:30\t\t0.00005154\t\t0.0001\n",
      "6:43:21\t\t6:48:30\t\t0:05:09\t\t0.00042656\t\t0.0004\n",
      "6:47:01\t\t6:50:06\t\t0:03:05\t\t0.00029370\t\t0.0003\n",
      "6:49:32\t\t6:55:44\t\t0:06:11\t\t0.00045663\t\t0.0005\n",
      "6:51:05\t\t6:52:30\t\t0:01:24\t\t0.00008703\t\t0.0001\n",
      "6:52:58\t\t7:04:37\t\t0:11:38\t\t0.00103179\t\t0.0010\n",
      "6:54:28\t\t7:00:47\t\t0:06:18\t\t0.00053306\t\t0.0005\n",
      "6:56:13\t\t6:57:32\t\t0:01:19\t\t0.00008114\t\t0.0001\n",
      "6:59:39\t\t7:01:20\t\t0:01:40\t\t0.00007614\t\t0.0001\n",
      "7:01:33\t\t7:13:31\t\t0:11:57\t\t0.00043239\t\t0.0004\n",
      "7:01:35\t\t7:05:31\t\t0:03:55\t\t0.00015340\t\t0.0002\n",
      "7:01:44\t\t7:01:54\t\t0:00:10\t\t0.00001228\t\t0.0000\n",
      "7:02:42\t\t7:06:07\t\t0:03:24\t\t0.00017612\t\t0.0002\n",
      "7:07:45\t\t7:16:10\t\t0:08:24\t\t0.00031544\t\t0.0003\n",
      "7:11:40\t\t7:12:30\t\t0:00:50\t\t0.00003049\t\t0.0000\n",
      "7:21:48\t\t7:26:07\t\t0:04:19\t\t0.00019379\t\t0.0002\n",
      "7:22:41\t\t7:31:59\t\t0:09:18\t\t0.00046361\t\t0.0005\n",
      "7:24:23\t\t7:27:12\t\t0:02:48\t\t0.00016080\t\t0.0002\n",
      "7:32:36\t\t7:40:24\t\t0:07:48\t\t0.00027067\t\t0.0003\n",
      "7:36:25\t\t7:46:44\t\t0:10:18\t\t0.00051213\t\t0.0005\n",
      "7:36:33\t\t7:50:43\t\t0:14:10\t\t0.00111301\t\t0.0011\n",
      "7:42:43\t\t7:42:51\t\t0:00:08\t\t0.00000665\t\t0.0000\n",
      "7:43:45\t\t7:51:25\t\t0:07:40\t\t0.00053321\t\t0.0005\n",
      "7:46:44\t\t8:08:14\t\t0:21:29\t\t0.00168857\t\t0.0017\n",
      "7:50:43\t\t7:53:46\t\t0:03:02\t\t0.00034241\t\t0.0003\n",
      "7:51:25\t\t7:51:33\t\t0:00:07\t\t0.00001646\t\t0.0000\n",
      "7:51:33\t\t7:53:30\t\t0:01:57\t\t0.00028224\t\t0.0003\n",
      "7:53:30\t\t7:53:42\t\t0:00:12\t\t0.00002370\t\t0.0000\n",
      "7:53:42\t\t8:14:14\t\t0:20:31\t\t0.00192695\t\t0.0019\n",
      "7:57:58\t\t8:13:29\t\t0:15:31\t\t0.00187088\t\t0.0019\n",
      "7:58:23\t\t8:11:41\t\t0:13:17\t\t0.00170655\t\t0.0017\n",
      "8:08:14\t\t8:13:20\t\t0:05:05\t\t0.00061763\t\t0.0006\n",
      "8:11:41\t\t8:58:08\t\t0:46:27\t\t0.00830955\t\t0.0083\n",
      "8:13:29\t\t8:18:02\t\t0:04:33\t\t0.00066520\t\t0.0007\n",
      "8:14:14\t\t8:24:22\t\t0:10:08\t\t0.00095817\t\t0.0010\n",
      "8:18:02\t\t8:24:15\t\t0:06:12\t\t0.00072347\t\t0.0007\n",
      "8:24:15\t\t8:25:52\t\t0:01:37\t\t0.00016367\t\t0.0002\n",
      "8:31:50\t\t8:37:14\t\t0:05:23\t\t0.00059819\t\t0.0006\n",
      "8:32:42\t\t8:34:01\t\t0:01:19\t\t0.00016643\t\t0.0002\n",
      "8:34:23\t\t9:00:52\t\t0:26:28\t\t0.00527512\t\t0.0053\n",
      "8:35:18\t\t8:35:46\t\t0:00:28\t\t0.00003399\t\t0.0000\n",
      "8:35:46\t\t8:41:44\t\t0:05:58\t\t0.00073292\t\t0.0007\n",
      "8:37:29\t\t8:38:47\t\t0:01:17\t\t0.00010108\t\t0.0001\n",
      "8:38:47\t\t9:00:22\t\t0:21:35\t\t0.00370400\t\t0.0037\n",
      "8:42:19\t\t8:45:06\t\t0:02:46\t\t0.00044850\t\t0.0004\n",
      "8:45:06\t\t9:15:54\t\t0:30:48\t\t0.00666668\t\t0.0066\n",
      "8:58:08\t\t8:58:14\t\t0:00:06\t\t0.00001760\t\t0.0000\n",
      "8:58:14\t\t8:59:11\t\t0:00:56\t\t0.00015553\t\t0.0002\n",
      "8:59:11\t\t9:08:00\t\t0:08:49\t\t0.00206920\t\t0.0021\n",
      "9:00:52\t\t9:09:03\t\t0:08:11\t\t0.00159888\t\t0.0016\n",
      "9:05:25\t\t9:25:06\t\t0:19:40\t\t0.00252200\t\t0.0025\n",
      "9:08:00\t\t9:08:46\t\t0:00:45\t\t0.00017720\t\t0.0002\n",
      "10:25:03\t\t10:33:29\t\t0:08:26\t\t0.00039488\t\t0.0004\n",
      "10:44:11\t\t10:50:40\t\t0:06:29\t\t0.00033919\t\t0.0003\n",
      "11:08:00\t\t11:12:23\t\t0:04:22\t\t0.00016713\t\t0.0002\n",
      "11:26:27\t\t11:30:37\t\t0:04:09\t\t0.00013754\t\t0.0001\n",
      "12:29:21\t\t12:38:47\t\t0:09:25\t\t0.00012059\t\t0.0001\n",
      "13:32:17\t\t13:32:33\t\t0:00:16\t\t0.00000131\t\t0.0000\n",
      "14:19:36\t\t14:20:13\t\t0:00:36\t\t0.00000171\t\t0.0000\n",
      "14:32:52\t\t14:37:05\t\t0:04:13\t\t0.00000661\t\t0.0000\n",
      "14:51:12\t\t14:59:07\t\t0:07:55\t\t0.00000845\t\t0.0000\n",
      "14:53:59\t\t14:59:29\t\t0:05:29\t\t0.00000570\t\t0.0000\n",
      "15:06:18\t\t15:11:00\t\t0:04:41\t\t0.00000348\t\t0.0000\n",
      "15:16:23\t\t15:22:28\t\t0:06:05\t\t0.00000388\t\t0.0000\n",
      "15:30:56\t\t15:34:34\t\t0:03:37\t\t0.00000279\t\t0.0000\n",
      "15:32:46\t\t15:55:46\t\t0:23:00\t\t0.00000990\t\t0.0000\n",
      "15:35:32\t\t15:40:06\t\t0:04:34\t\t0.00000317\t\t0.0000\n",
      "15:53:58\t\t16:14:40\t\t0:20:42\t\t0.00000676\t\t0.0000\n",
      "15:59:05\t\t16:01:24\t\t0:02:18\t\t0.00000155\t\t0.0000\n",
      "16:01:47\t\t16:04:32\t\t0:02:44\t\t0.00000145\t\t0.0000\n",
      "16:32:10\t\t16:44:04\t\t0:11:54\t\t0.00000254\t\t0.0000\n",
      "16:45:53\t\t16:56:31\t\t0:10:37\t\t0.00000212\t\t0.0000\n",
      "16:57:20\t\t16:59:08\t\t0:01:47\t\t0.00000031\t\t0.0000\n",
      "17:11:59\t\t17:23:05\t\t0:11:05\t\t0.00000184\t\t0.0000\n",
      "17:20:46\t\t17:26:58\t\t0:06:11\t\t0.00000071\t\t0.0000\n",
      "17:30:21\t\t17:37:41\t\t0:07:19\t\t0.00000107\t\t0.0000\n",
      "17:49:26\t\t17:53:19\t\t0:03:52\t\t0.00000030\t\t0.0000\n",
      "17:58:24\t\t17:58:31\t\t0:00:07\t\t0.00000001\t\t0.0000\n",
      "18:00:55\t\t18:17:24\t\t0:16:29\t\t0.00000141\t\t0.0000\n",
      "18:01:22\t\t18:05:30\t\t0:04:08\t\t0.00000024\t\t0.0000\n",
      "18:03:03\t\t18:30:06\t\t0:27:03\t\t0.00000144\t\t0.0000\n",
      "18:03:46\t\t18:08:00\t\t0:04:14\t\t0.00000034\t\t0.0000\n",
      "18:10:20\t\t18:12:34\t\t0:02:13\t\t0.00000021\t\t0.0000\n",
      "18:13:57\t\t18:21:07\t\t0:07:10\t\t0.00000055\t\t0.0000\n",
      "18:16:03\t\t18:19:29\t\t0:03:26\t\t0.00000029\t\t0.0000\n",
      "18:17:24\t\t18:27:03\t\t0:09:39\t\t0.00000044\t\t0.0000\n",
      "18:19:29\t\t18:19:50\t\t0:00:21\t\t0.00000003\t\t0.0000\n",
      "18:19:50\t\t18:28:34\t\t0:08:43\t\t0.00000036\t\t0.0000\n",
      "18:21:07\t\t18:21:29\t\t0:00:21\t\t0.00000002\t\t0.0000\n",
      "18:26:42\t\t18:29:57\t\t0:03:15\t\t0.00000013\t\t0.0000\n",
      "18:30:00\t\t18:30:35\t\t0:00:35\t\t0.00000004\t\t0.0000\n",
      "18:30:01\t\t18:32:44\t\t0:02:43\t\t0.00000011\t\t0.0000\n",
      "18:31:30\t\t18:33:23\t\t0:01:53\t\t0.00000008\t\t0.0000\n",
      "18:33:14\t\t18:41:32\t\t0:08:17\t\t0.00000034\t\t0.0000\n",
      "18:34:50\t\t18:38:07\t\t0:03:16\t\t0.00000019\t\t0.0000\n",
      "18:49:17\t\t18:57:22\t\t0:08:05\t\t0.00105620\t\t0.0011\n",
      "18:53:59\t\t19:26:16\t\t0:32:17\t\t0.00395922\t\t0.0040\n",
      "18:54:27\t\t19:06:05\t\t0:11:38\t\t0.00235477\t\t0.0024\n",
      "19:09:50\t\t19:15:35\t\t0:05:45\t\t0.00082575\t\t0.0008\n",
      "19:12:24\t\t19:17:02\t\t0:04:37\t\t0.00057540\t\t0.0006\n",
      "19:17:07\t\t19:23:47\t\t0:06:40\t\t0.00045504\t\t0.0005\n",
      "19:20:53\t\t19:32:15\t\t0:11:22\t\t0.00101516\t\t0.0010\n",
      "19:21:58\t\t19:23:09\t\t0:01:10\t\t0.00010178\t\t0.0001\n",
      "19:23:09\t\t19:25:06\t\t0:01:57\t\t0.00015372\t\t0.0002\n",
      "19:24:09\t\t19:34:03\t\t0:09:53\t\t0.00071485\t\t0.0007\n",
      "19:25:06\t\t19:31:58\t\t0:06:52\t\t0.00061433\t\t0.0006\n",
      "19:27:13\t\t19:30:13\t\t0:03:00\t\t0.00035816\t\t0.0004\n",
      "19:30:13\t\t19:32:21\t\t0:02:07\t\t0.00018491\t\t0.0002\n",
      "19:31:58\t\t19:54:32\t\t0:22:33\t\t0.00159685\t\t0.0016\n",
      "19:32:15\t\t19:36:12\t\t0:03:56\t\t0.00045565\t\t0.0005\n",
      "19:32:21\t\t19:37:39\t\t0:05:17\t\t0.00054985\t\t0.0005\n",
      "19:39:00\t\t19:57:23\t\t0:18:23\t\t0.00140074\t\t0.0014\n",
      "19:46:21\t\t19:50:49\t\t0:04:28\t\t0.00028898\t\t0.0003\n",
      "19:47:27\t\t19:54:44\t\t0:07:17\t\t0.00061598\t\t0.0006\n",
      "19:53:27\t\t20:05:38\t\t0:12:11\t\t0.00092051\t\t0.0009\n",
      "19:54:33\t\t20:04:27\t\t0:09:54\t\t0.00040590\t\t0.0004\n",
      "19:57:17\t\t19:57:44\t\t0:00:27\t\t0.00002111\t\t0.0000\n",
      "19:58:28\t\t19:58:37\t\t0:00:09\t\t0.00000758\t\t0.0000\n",
      "20:01:35\t\t20:25:32\t\t0:23:56\t\t0.00094487\t\t0.0009\n",
      "20:03:13\t\t20:05:16\t\t0:02:02\t\t0.00007359\t\t0.0001\n",
      "20:04:27\t\t20:05:09\t\t0:00:41\t\t0.00004773\t\t0.0000\n",
      "20:07:06\t\t20:09:39\t\t0:02:33\t\t0.00017461\t\t0.0002\n",
      "20:10:12\t\t20:22:56\t\t0:12:44\t\t0.00067732\t\t0.0007\n",
      "20:10:30\t\t20:20:36\t\t0:10:06\t\t0.00046282\t\t0.0005\n",
      "20:13:56\t\t20:16:57\t\t0:03:00\t\t0.00017129\t\t0.0002\n",
      "20:16:57\t\t20:19:23\t\t0:02:26\t\t0.00010920\t\t0.0001\n",
      "20:19:23\t\t20:20:30\t\t0:01:06\t\t0.00005376\t\t0.0001\n",
      "20:23:37\t\t20:28:40\t\t0:05:03\t\t0.00024190\t\t0.0002\n",
      "20:25:17\t\t20:33:02\t\t0:07:45\t\t0.00040730\t\t0.0004\n",
      "20:30:02\t\t20:39:59\t\t0:09:57\t\t0.00045447\t\t0.0005\n",
      "20:30:24\t\t20:41:46\t\t0:11:21\t\t0.00056468\t\t0.0006\n",
      "20:34:42\t\t20:35:02\t\t0:00:19\t\t0.00001248\t\t0.0000\n",
      "20:37:07\t\t20:41:52\t\t0:04:45\t\t0.00018284\t\t0.0002\n",
      "20:37:20\t\t20:42:56\t\t0:05:35\t\t0.00013882\t\t0.0001\n",
      "20:40:27\t\t20:44:06\t\t0:03:39\t\t0.00014361\t\t0.0001\n",
      "20:43:12\t\t20:45:10\t\t0:01:58\t\t0.00008764\t\t0.0001\n",
      "20:43:39\t\t20:50:16\t\t0:06:36\t\t0.00031118\t\t0.0003\n",
      "20:44:56\t\t20:48:19\t\t0:03:23\t\t0.00009277\t\t0.0001\n",
      "20:51:59\t\t20:55:27\t\t0:03:27\t\t0.00021394\t\t0.0002\n",
      "20:53:40\t\t20:53:47\t\t0:00:06\t\t0.00000506\t\t0.0000\n",
      "20:53:45\t\t20:58:33\t\t0:04:48\t\t0.00028276\t\t0.0003\n",
      "20:56:13\t\t21:04:32\t\t0:08:18\t\t0.00036720\t\t0.0004\n",
      "20:58:55\t\t21:06:38\t\t0:07:43\t\t0.00034952\t\t0.0003\n",
      "21:01:22\t\t21:06:52\t\t0:05:30\t\t0.00022799\t\t0.0002\n",
      "21:04:50\t\t21:12:32\t\t0:07:41\t\t0.00017706\t\t0.0002\n",
      "21:08:58\t\t21:20:40\t\t0:11:41\t\t0.00149444\t\t0.0015\n",
      "21:10:25\t\t21:11:07\t\t0:00:42\t\t0.00001870\t\t0.0000\n",
      "21:11:56\t\t21:23:24\t\t0:11:27\t\t0.00197805\t\t0.0020\n",
      "21:12:59\t\t21:18:38\t\t0:05:38\t\t0.00080084\t\t0.0008\n",
      "21:18:38\t\t21:25:09\t\t0:06:31\t\t0.00194441\t\t0.0019\n",
      "21:20:40\t\t21:29:42\t\t0:09:02\t\t0.00251962\t\t0.0025\n",
      "21:24:07\t\t21:25:54\t\t0:01:46\t\t0.00036903\t\t0.0004\n",
      "21:34:34\t\t22:05:27\t\t0:30:53\t\t0.00293871\t\t0.0029\n",
      "21:35:00\t\t21:38:08\t\t0:03:07\t\t0.00052824\t\t0.0005\n",
      "21:40:27\t\t21:42:45\t\t0:02:18\t\t0.00038000\t\t0.0004\n",
      "21:41:42\t\t21:48:36\t\t0:06:54\t\t0.00092900\t\t0.0009\n",
      "21:42:42\t\t21:55:10\t\t0:12:27\t\t0.00097414\t\t0.0010\n",
      "21:50:48\t\t22:20:41\t\t0:29:52\t\t0.00269059\t\t0.0027\n",
      "21:51:56\t\t21:59:07\t\t0:07:10\t\t0.00087483\t\t0.0009\n",
      "21:55:10\t\t21:58:18\t\t0:03:08\t\t0.00036155\t\t0.0004\n",
      "21:58:18\t\t22:05:23\t\t0:07:04\t\t0.00098791\t\t0.0010\n",
      "21:59:07\t\t22:00:34\t\t0:01:26\t\t0.00021072\t\t0.0002\n",
      "22:11:22\t\t22:21:37\t\t0:10:15\t\t0.00058474\t\t0.0006\n",
      "22:58:17\t\t23:02:40\t\t0:04:23\t\t0.00016521\t\t0.0002\n",
      "23:09:39\t\t23:14:20\t\t0:04:41\t\t0.00020190\t\t0.0002\n",
      "23:14:12\t\t23:25:49\t\t0:11:37\t\t0.00030683\t\t0.0003\n",
      "23:32:53\t\t23:35:05\t\t0:02:12\t\t0.00008065\t\t0.0001\n",
      "23:34:48\t\t23:43:14\t\t0:08:25\t\t0.00017602\t\t0.0002\n",
      "23:46:55\t\t23:50:54\t\t0:03:59\t\t0.00009777\t\t0.0001\n"
     ]
    }
   ],
   "source": [
    "pinf = 1 - np.exp(-E)\n",
    "\n",
    "print('time entered\\ttime left\\ttime spent\\texposure (quanta)\\tP(inf)')\n",
    "print('--------------------------------------------------------------------------------------')\n",
    "print('(susceptibles only)\\n')\n",
    "susceptibles = 0\n",
    "for (a, d, _), e, pinf_ in zip(arrive_depart, E, pinf):\n",
    "    if _ == 1:\n",
    "        continue\n",
    "    t_enter = str(datetime.timedelta(hours=a)).rsplit('.')[0]\n",
    "    t_leave = str(datetime.timedelta(hours=d)).rsplit('.')[0]\n",
    "    t_spent = str(datetime.timedelta(hours=d) - datetime.timedelta(hours=a)).rsplit('.')[0]\n",
    "    susceptibles += 1\n",
    "    #spent = (d-a)*60.0\n",
    "    print(t_enter + '\\t\\t' + t_leave + '\\t\\t' + t_spent +'\\t\\t%.8f\\t\\t%.4f' %(e, pinf_))"
   ]
  },
  {
   "cell_type": "markdown",
   "metadata": {},
   "source": [
    "### Expected number of secondary infections"
   ]
  },
  {
   "cell_type": "code",
   "execution_count": 16,
   "metadata": {
    "scrolled": true
   },
   "outputs": [
    {
     "name": "stdout",
     "output_type": "stream",
     "text": [
      "Expected 2nd-ary infections: 0.111 out of 183 susceptibles\n"
     ]
    }
   ],
   "source": [
    "E_infs = np.sum(pinf)\n",
    "print('Expected 2nd-ary infections: %.3f out of %d susceptibles' %(E_infs, susceptibles) )"
   ]
  }
 ],
 "metadata": {
  "kernelspec": {
   "display_name": "Python 3",
   "language": "python",
   "name": "python3"
  },
  "language_info": {
   "codemirror_mode": {
    "name": "ipython",
    "version": 3
   },
   "file_extension": ".py",
   "mimetype": "text/x-python",
   "name": "python",
   "nbconvert_exporter": "python",
   "pygments_lexer": "ipython3",
   "version": "3.8.5"
  }
 },
 "nbformat": 4,
 "nbformat_minor": 4
}
