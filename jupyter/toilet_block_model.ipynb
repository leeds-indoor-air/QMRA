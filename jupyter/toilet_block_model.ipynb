{
 "cells": [
  {
   "cell_type": "code",
   "execution_count": 1,
   "metadata": {},
   "outputs": [
    {
     "name": "stdout",
     "output_type": "stream",
     "text": [
      "seed: 1633096404\n"
     ]
    }
   ],
   "source": [
    "import time\n",
    "import numpy as np\n",
    "import math as m\n",
    "import sys\n",
    "import datetime\n",
    "%matplotlib inline\n",
    "from matplotlib import pyplot as plt\n",
    "\n",
    "import queue_model_fns as qu\n",
    "from van_Doremalen_2020 import viral_half_lives\n",
    "from Duguid_1946 import total_talk_small\n",
    "import first_order_ODE as foode\n",
    "from pulmonary_rate import pulmonary_rate\n",
    "\n",
    "#seed random number generator\n",
    "seed = int(time.time())\n",
    "rD = np.random.default_rng(seed)\n",
    "print('seed:',seed)"
   ]
  },
  {
   "cell_type": "markdown",
   "metadata": {},
   "source": [
    "## Set up\n",
    "\n",
    "- Simulates usage of m-cubicle toilet block by a population with a background prevalence of an airborne infectious disease\n",
    "- simulation period is 24hr, midnight to midnight\n",
    "- arrivals are Markovian (with rate depending on time of day)\n",
    "- general residence time distribution\n",
    "- if someone arrives and all m cubicles are occupied, they join a queue\n",
    "\n",
    "Calculates: \n",
    "- airborne pathogen concentration over the period\n",
    "- pathogen exposure for each susceptible visitor + probability of infection\n",
    "- expected total 2nd-ary infections over period\n",
    "\n",
    "Where we are being naive:\n",
    "- no account taken of fomite transmission\n",
    "- we assume everyone uses toilet block for same purpose (so no washing, washing of clothes or other uses)\n",
    "- we assume a very large population uses the block, with no one making repeat visits\n",
    "- no mitigations"
   ]
  },
  {
   "cell_type": "markdown",
   "metadata": {},
   "source": [
    "### Background disease prevalence rate - change this (value between 0 and 1)"
   ]
  },
  {
   "cell_type": "code",
   "execution_count": 2,
   "metadata": {},
   "outputs": [],
   "source": [
    "prev = 0.1"
   ]
  },
  {
   "cell_type": "markdown",
   "metadata": {},
   "source": [
    "### Buidling parameters - change these at will!"
   ]
  },
  {
   "cell_type": "code",
   "execution_count": 3,
   "metadata": {},
   "outputs": [],
   "source": [
    "V = 1.5 * 5 * 2 #cubic metres\n",
    "\n",
    "cubs = 4 #number of cubicles\n",
    "\n",
    "people = 4\n",
    "litrespersecondperperson = 0.25"
   ]
  },
  {
   "cell_type": "code",
   "execution_count": 4,
   "metadata": {},
   "outputs": [
    {
     "name": "stdout",
     "output_type": "stream",
     "text": [
      "Building volume: 15.00 (m^3)\n",
      "Ventilation rate: 3.60 (m^3 per hour), 0.24 (air changes per hour)\n"
     ]
    }
   ],
   "source": [
    "Q = people * litrespersecondperperson * 60 * 60/ 1000 #total ventilation rate in m3/hour\n",
    "Q_ACH = Q / V\n",
    "print('Building volume: %.2f (m^3)' %V)\n",
    "print('Ventilation rate: %.2f (m^3 per hour), %.2f (air changes per hour)' %(Q, Q_ACH))"
   ]
  },
  {
   "cell_type": "markdown",
   "metadata": {},
   "source": [
    "### Decay rate of SARS-CoV-2 in aerosols [hour$^{-1}$] (van Doremalen 2020) - does not apply generally, so keep or change"
   ]
  },
  {
   "cell_type": "code",
   "execution_count": 5,
   "metadata": {},
   "outputs": [
    {
     "name": "stdout",
     "output_type": "stream",
     "text": [
      "gamma_air: 0.63 (per hour)\n"
     ]
    }
   ],
   "source": [
    "gamma = {k_:m.log(2)/(v_) for k_, v_ in zip(viral_half_lives.keys(),\n",
    "                                                 viral_half_lives.values())} #per hour [van Doremalen (2020)]\n",
    "\n",
    "gamma_air = gamma['aerosol']\n",
    "print('gamma_air: %.2f (per hour)' %gamma_air)"
   ]
  },
  {
   "cell_type": "markdown",
   "metadata": {},
   "source": [
    "### Quanta emission rate - change this"
   ]
  },
  {
   "cell_type": "code",
   "execution_count": 6,
   "metadata": {},
   "outputs": [],
   "source": [
    "qer = 30.0 #per hour"
   ]
  },
  {
   "cell_type": "markdown",
   "metadata": {},
   "source": [
    "### Residence time distribution\n",
    "\n",
    "Naively gamma-distributed with mean approx. 6 mins.  However, we can make this more sophisticated by e.g. calibrating from Ghana data and taking into account different modes of usage, such as washing vs. toileting."
   ]
  },
  {
   "cell_type": "code",
   "execution_count": 7,
   "metadata": {},
   "outputs": [
    {
     "data": {
      "image/png": "[encoded data removed]",
      "text/plain": [
       "<Figure size 432x288 with 1 Axes>"
      ]
     },
     "metadata": {
      "needs_background": "light"
     },
     "output_type": "display_data"
    }
   ],
   "source": [
    "def residence_time(rD):\n",
    "    #return 0.5\n",
    "    return rD.gamma(shape=1.1, scale=1.0/10)\n",
    "\n",
    "residence_times_hist = [residence_time(rD) for i in range(5000)]\n",
    "plt.hist(residence_times_hist, bins=40)\n",
    "plt.xlabel('time (hours)')\n",
    "plt.ylabel('frequency')\n",
    "plt.show()\n"
   ]
  },
  {
   "cell_type": "markdown",
   "metadata": {},
   "source": [
    "### Arrival pattern - change this\n",
    "\n",
    "Just made this up, but again, can play with this and/or use Ghana data"
   ]
  },
  {
   "cell_type": "code",
   "execution_count": 8,
   "metadata": {},
   "outputs": [],
   "source": [
    "'''\n",
    "very quiet: midnight to 6am\n",
    "busy: 6am to 9am\n",
    "quiet: 9am to 6pm\n",
    "busy: 6pm to 10pm\n",
    "quiet: 10pm to midnight\n",
    "'''\n",
    "\n",
    "very_quiet_rate = 0.6 #per hour\n",
    "quiet_rate = 3.0 #per hour\n",
    "busy_rate = 25.0 #per hour"
   ]
  },
  {
   "cell_type": "markdown",
   "metadata": {},
   "source": [
    "## Run simulation"
   ]
  },
  {
   "cell_type": "markdown",
   "metadata": {},
   "source": [
    "### 1. Simulate arrivals and usage"
   ]
  },
  {
   "cell_type": "code",
   "execution_count": 9,
   "metadata": {},
   "outputs": [],
   "source": [
    "arrivals = []\n",
    "\n",
    "qu.simulate_arrivals(very_quiet_rate, 0.0, 6.0, prev, arrivals, rD)\n",
    "qu.simulate_arrivals(busy_rate, 6.0, 9.0, prev, arrivals, rD)\n",
    "qu.simulate_arrivals(quiet_rate, 9.0, 18.0, prev, arrivals, rD)\n",
    "qu.simulate_arrivals(busy_rate, 18.0, 22.0, prev, arrivals, rD)\n",
    "qu.simulate_arrivals(quiet_rate, 22.0, 24.0, prev, arrivals, rD)"
   ]
  },
  {
   "cell_type": "code",
   "execution_count": 10,
   "metadata": {},
   "outputs": [],
   "source": [
    "out_str = []\n",
    "t, occ, inf, que, arrive_depart = qu.simulate_usage(cubs, arrivals, residence_time, out_str, rD)"
   ]
  },
  {
   "cell_type": "code",
   "execution_count": 11,
   "metadata": {},
   "outputs": [],
   "source": [
    "#Uncomment below if you want to see simulated usage pattern listed\n",
    "#for str in out_str:\n",
    "#        print(str)\n",
    "        "
   ]
  },
  {
   "cell_type": "markdown",
   "metadata": {},
   "source": [
    "### 2. Calculate airborne concentration [quanta m$^{-3}$] at each change in occupancy"
   ]
  },
  {
   "cell_type": "code",
   "execution_count": 12,
   "metadata": {},
   "outputs": [],
   "source": [
    "a =  qer / V\n",
    "b = (Q/V + gamma_air)\n",
    "C = qu.calculate_concentrations( t, inf, a, b, 0.0 )"
   ]
  },
  {
   "cell_type": "markdown",
   "metadata": {},
   "source": [
    "### 3. Calculate each person's exposure [quanta]"
   ]
  },
  {
   "cell_type": "markdown",
   "metadata": {},
   "source": [
    "#### notes\n",
    "\n",
    "Gammaitoni and Nucci's model [Beggs, et al. 2003] in terms of airborne *concentration* rather than absolute airborne pathogen load is\n",
    "\n",
    "\\begin{align}\n",
    "\\frac{dS}{dt} &= - p\\,C\\,S\\\\\n",
    "\\frac{dC}{dt} &= \\frac{q}{V} - (\\frac{Q}{V} + \\gamma_{\\text{air}})\\,C\\\\\n",
    "\\end{align}\n",
    "\n",
    "where\n",
    "\n",
    "$S = $ number of susceptibles\n",
    "\n",
    "$C = $ airborne concentration [quanta per m${^3}$] \n",
    "\n",
    "$p = $ pulmonary ventilation rate [m${^3}$ per hour]\n",
    "\n",
    "$Q = $ ventilation rate [m${^3}$ per hour]\n",
    "\n",
    "$V = $ room volume [m${^3}$]\n",
    "\n",
    "$\\gamma_{\\text{air}} = $ pathogen decay rate in aerosols [per hour]\n",
    "\n",
    "$q = $ emission rate [quanta per hour].\n",
    "\n",
    "\n",
    "Adapting to discrete infections, note that hazard of infection, per susceptible, is\n",
    "\n",
    "\\begin{equation}\n",
    "h(t) = p\\,C(t)\n",
    "\\end{equation}\n",
    "\n",
    "and, therefore, probability of infection due to exposure to concentration $C(t)$ between $t_0$ and $t_1$ is\n",
    "\n",
    "\\begin{align}\n",
    "    P_{\\text{inf}} &= 1 - \\exp\\left\\{-\\int_{t_0}^{t_1} h(t)\\,dt\\right\\}\\\\\n",
    "    & = 1 - \\exp\\left\\{-p\\int_{t_0}^{t_1} C(t)\\,dt\\right\\}.\\\\\n",
    "\\end{align}\n",
    "\n",
    "E.g. total exposure to 1 quantum leads to infection with probability $1 - e^{-1} = 0.632$.\n",
    "\n",
    "Integral is performed by function `calculate_exposures` in `queue_model_fns`"
   ]
  },
  {
   "cell_type": "code",
   "execution_count": 13,
   "metadata": {},
   "outputs": [],
   "source": [
    "pulmonary_rates = pulmonary_rate( len(arrive_depart), rD) / 1000.0\n",
    "E = np.array( qu.calculate_exposures( pulmonary_rates, arrive_depart, t, C, inf, a, b ) )"
   ]
  },
  {
   "cell_type": "markdown",
   "metadata": {},
   "source": [
    "## View outputs"
   ]
  },
  {
   "cell_type": "markdown",
   "metadata": {},
   "source": [
    "### 1. Occupancy & airborne concentration"
   ]
  },
  {
   "cell_type": "code",
   "execution_count": 14,
   "metadata": {},
   "outputs": [
    {
     "data": {
      "image/png": "[encoded data removed]",
      "text/plain": [
       "<Figure size 1296x360 with 2 Axes>"
      ]
     },
     "metadata": {
      "needs_background": "light"
     },
     "output_type": "display_data"
    }
   ],
   "source": [
    "fig, ax = plt.subplots(1,2,sharex=True)\n",
    "\n",
    "fig.set_size_inches( (18,5) )\n",
    "\n",
    "#ax[0].step(t, occ, 'g-', where='post', label='occupants', alpha=0.6)\n",
    "ax[0].step(t, inf, 'r-', where='post', label='infected', alpha=0.6)\n",
    "#ax[0].step(t, que, 'b-', where='post', label='queue', alpha=0.6)\n",
    "ax[0].legend( loc='upper left' )\n",
    "\n",
    "ax[1].plot(t, C, 'k-')\n",
    "\n",
    "ax[0].set_xlabel('time (hr)')\n",
    "ax[0].set_title('occupancy (people)')\n",
    "ax[1].set_title(r'airborne concentration (quanta m$^{-3}$)')\n",
    "\n",
    "plt.show()"
   ]
  },
  {
   "cell_type": "markdown",
   "metadata": {},
   "source": [
    "### 2. Exposure"
   ]
  },
  {
   "cell_type": "code",
   "execution_count": 15,
   "metadata": {},
   "outputs": [
    {
     "name": "stdout",
     "output_type": "stream",
     "text": [
      "time entered\ttime left\ttime spent\texposure (quanta)\tP(inf)\n",
      "--------------------------------------------------------------------------------------\n",
      "(susceptibles only)\n",
      "\n",
      "1:43:00\t\t1:47:44\t\t0:04:43\t\t0.00000000\t\t0.0000\n",
      "3:31:24\t\t3:39:54\t\t0:08:30\t\t0.00001956\t\t0.0000\n",
      "4:49:04\t\t4:52:03\t\t0:02:59\t\t0.00000273\t\t0.0000\n",
      "6:00:27\t\t6:11:08\t\t0:10:40\t\t0.00000251\t\t0.0000\n",
      "6:07:26\t\t6:19:31\t\t0:12:05\t\t0.00008271\t\t0.0001\n",
      "6:07:51\t\t6:18:29\t\t0:10:37\t\t0.00006173\t\t0.0001\n",
      "6:08:06\t\t6:14:49\t\t0:06:42\t\t0.00000146\t\t0.0000\n",
      "6:11:16\t\t6:14:13\t\t0:02:57\t\t0.00000115\t\t0.0000\n",
      "6:14:13\t\t6:20:57\t\t0:06:44\t\t0.00007587\t\t0.0001\n",
      "6:14:49\t\t6:15:08\t\t0:00:19\t\t0.00000097\t\t0.0000\n",
      "6:17:09\t\t6:33:37\t\t0:16:27\t\t0.00021629\t\t0.0002\n",
      "6:19:13\t\t6:38:34\t\t0:19:21\t\t0.00051088\t\t0.0005\n",
      "6:22:02\t\t6:23:34\t\t0:01:31\t\t0.00001903\t\t0.0000\n",
      "6:23:23\t\t6:24:33\t\t0:01:09\t\t0.00001559\t\t0.0000\n",
      "6:27:36\t\t6:59:01\t\t0:31:24\t\t0.00112075\t\t0.0011\n",
      "6:33:37\t\t6:39:24\t\t0:05:46\t\t0.00041808\t\t0.0004\n",
      "6:38:34\t\t6:49:23\t\t0:10:49\t\t0.00052269\t\t0.0005\n",
      "6:39:24\t\t6:42:43\t\t0:03:18\t\t0.00025007\t\t0.0003\n",
      "6:40:12\t\t6:55:28\t\t0:15:15\t\t0.00079495\t\t0.0008\n",
      "6:42:43\t\t6:50:31\t\t0:07:48\t\t0.00038278\t\t0.0004\n",
      "6:49:23\t\t6:53:16\t\t0:03:53\t\t0.00018095\t\t0.0002\n",
      "6:50:31\t\t6:59:21\t\t0:08:49\t\t0.00030064\t\t0.0003\n",
      "6:53:16\t\t6:53:34\t\t0:00:18\t\t0.00000996\t\t0.0000\n",
      "6:53:34\t\t7:00:25\t\t0:06:50\t\t0.00024128\t\t0.0002\n",
      "6:57:06\t\t7:08:55\t\t0:11:48\t\t0.00140086\t\t0.0014\n",
      "6:59:01\t\t7:00:37\t\t0:01:36\t\t0.00006726\t\t0.0001\n",
      "7:04:45\t\t7:27:58\t\t0:23:13\t\t0.00245339\t\t0.0025\n",
      "7:09:55\t\t7:22:16\t\t0:12:21\t\t0.00103782\t\t0.0010\n",
      "7:15:48\t\t7:37:24\t\t0:21:35\t\t0.00172095\t\t0.0017\n",
      "7:16:19\t\t7:17:51\t\t0:01:32\t\t0.00013200\t\t0.0001\n",
      "7:23:03\t\t7:41:07\t\t0:18:04\t\t0.00143084\t\t0.0014\n",
      "7:27:26\t\t7:30:22\t\t0:02:56\t\t0.00027632\t\t0.0003\n",
      "7:29:17\t\t7:36:00\t\t0:06:42\t\t0.00052867\t\t0.0005\n",
      "7:31:15\t\t7:46:36\t\t0:15:20\t\t0.00088145\t\t0.0009\n",
      "7:36:00\t\t7:42:01\t\t0:06:01\t\t0.00025617\t\t0.0003\n",
      "7:37:24\t\t7:53:25\t\t0:16:01\t\t0.00144105\t\t0.0014\n",
      "7:41:07\t\t7:43:04\t\t0:01:56\t\t0.00012805\t\t0.0001\n",
      "7:43:35\t\t7:45:09\t\t0:01:33\t\t0.00009594\t\t0.0001\n",
      "7:48:49\t\t7:51:50\t\t0:03:00\t\t0.00027950\t\t0.0003\n",
      "7:53:54\t\t7:58:27\t\t0:04:33\t\t0.00062788\t\t0.0006\n",
      "7:55:08\t\t8:36:04\t\t0:40:55\t\t0.00465155\t\t0.0046\n",
      "7:57:08\t\t8:01:50\t\t0:04:41\t\t0.00049539\t\t0.0005\n",
      "8:00:03\t\t8:18:01\t\t0:17:58\t\t0.00246573\t\t0.0025\n",
      "8:05:30\t\t8:13:51\t\t0:08:20\t\t0.00070777\t\t0.0007\n",
      "8:11:02\t\t8:14:59\t\t0:03:56\t\t0.00049549\t\t0.0005\n",
      "8:15:14\t\t8:16:08\t\t0:00:54\t\t0.00012249\t\t0.0001\n",
      "8:16:10\t\t8:22:10\t\t0:05:59\t\t0.00085563\t\t0.0009\n",
      "8:20:07\t\t8:29:16\t\t0:09:08\t\t0.00066411\t\t0.0007\n",
      "8:21:37\t\t8:24:10\t\t0:02:33\t\t0.00023139\t\t0.0002\n",
      "8:28:08\t\t8:38:55\t\t0:10:47\t\t0.00117985\t\t0.0012\n",
      "8:31:24\t\t8:32:07\t\t0:00:43\t\t0.00004678\t\t0.0000\n",
      "8:31:54\t\t8:33:06\t\t0:01:11\t\t0.00011986\t\t0.0001\n",
      "8:34:38\t\t8:42:04\t\t0:07:25\t\t0.00095832\t\t0.0010\n",
      "8:36:04\t\t8:39:36\t\t0:03:32\t\t0.00054719\t\t0.0005\n",
      "8:38:55\t\t8:44:40\t\t0:05:44\t\t0.00115570\t\t0.0012\n",
      "8:40:22\t\t8:51:52\t\t0:11:29\t\t0.00191800\t\t0.0019\n",
      "8:42:54\t\t8:42:55\t\t0:00:01\t\t0.00000439\t\t0.0000\n",
      "8:47:30\t\t9:14:49\t\t0:27:19\t\t0.00540756\t\t0.0054\n",
      "8:57:36\t\t9:05:14\t\t0:07:37\t\t0.00157352\t\t0.0016\n",
      "9:12:54\t\t9:18:50\t\t0:05:55\t\t0.00097730\t\t0.0010\n",
      "9:26:37\t\t9:27:37\t\t0:00:59\t\t0.00020037\t\t0.0002\n",
      "10:11:16\t\t10:36:48\t\t0:25:32\t\t0.00245498\t\t0.0025\n",
      "10:16:09\t\t10:17:06\t\t0:00:57\t\t0.00010188\t\t0.0001\n",
      "10:30:19\t\t10:33:09\t\t0:02:50\t\t0.00032165\t\t0.0003\n",
      "11:07:38\t\t11:19:47\t\t0:12:09\t\t0.00069988\t\t0.0007\n",
      "11:09:59\t\t11:11:40\t\t0:01:41\t\t0.00004891\t\t0.0000\n",
      "11:13:21\t\t11:17:47\t\t0:04:26\t\t0.00020730\t\t0.0002\n",
      "11:20:36\t\t11:20:42\t\t0:00:06\t\t0.00000294\t\t0.0000\n",
      "11:36:44\t\t11:39:23\t\t0:02:39\t\t0.00008877\t\t0.0001\n",
      "12:16:18\t\t12:23:50\t\t0:07:31\t\t0.00017365\t\t0.0002\n",
      "12:43:52\t\t12:53:58\t\t0:10:05\t\t0.00008248\t\t0.0001\n",
      "12:53:26\t\t13:01:43\t\t0:08:17\t\t0.00009405\t\t0.0001\n",
      "13:11:57\t\t13:18:24\t\t0:06:27\t\t0.00004336\t\t0.0000\n",
      "13:38:02\t\t13:49:05\t\t0:11:03\t\t0.00005680\t\t0.0001\n",
      "13:49:55\t\t13:51:39\t\t0:01:43\t\t0.00000546\t\t0.0000\n",
      "13:57:49\t\t14:08:25\t\t0:10:35\t\t0.00003151\t\t0.0000\n",
      "16:37:29\t\t16:40:19\t\t0:02:50\t\t0.00000085\t\t0.0000\n",
      "16:39:35\t\t16:40:38\t\t0:01:03\t\t0.00000057\t\t0.0000\n",
      "17:00:48\t\t17:11:27\t\t0:10:38\t\t0.00000276\t\t0.0000\n",
      "17:23:36\t\t17:38:49\t\t0:15:12\t\t0.00000228\t\t0.0000\n",
      "17:45:14\t\t17:49:47\t\t0:04:32\t\t0.00000066\t\t0.0000\n",
      "18:01:16\t\t18:13:14\t\t0:11:58\t\t0.00266247\t\t0.0027\n",
      "18:01:39\t\t18:04:35\t\t0:02:55\t\t0.00000047\t\t0.0000\n",
      "18:14:38\t\t18:22:20\t\t0:07:42\t\t0.00186265\t\t0.0019\n",
      "18:19:34\t\t18:26:41\t\t0:07:06\t\t0.00088295\t\t0.0009\n",
      "18:24:35\t\t18:28:06\t\t0:03:31\t\t0.00086089\t\t0.0009\n",
      "18:24:36\t\t18:26:15\t\t0:01:39\t\t0.00036852\t\t0.0004\n",
      "18:26:15\t\t18:29:00\t\t0:02:44\t\t0.00057709\t\t0.0006\n",
      "18:26:59\t\t18:34:58\t\t0:07:59\t\t0.00154888\t\t0.0015\n",
      "18:30:10\t\t18:44:18\t\t0:14:08\t\t0.00382983\t\t0.0038\n",
      "18:30:12\t\t18:32:05\t\t0:01:52\t\t0.00054218\t\t0.0005\n",
      "18:32:05\t\t18:34:10\t\t0:02:04\t\t0.00043480\t\t0.0004\n",
      "18:35:20\t\t19:16:40\t\t0:41:19\t\t0.00942239\t\t0.0094\n",
      "18:35:47\t\t18:39:54\t\t0:04:07\t\t0.00060584\t\t0.0006\n",
      "18:37:56\t\t18:47:47\t\t0:09:51\t\t0.00130614\t\t0.0013\n",
      "18:40:20\t\t18:42:37\t\t0:02:17\t\t0.00048380\t\t0.0005\n",
      "18:42:37\t\t19:10:50\t\t0:28:12\t\t0.00610646\t\t0.0061\n",
      "18:44:18\t\t18:45:07\t\t0:00:48\t\t0.00017593\t\t0.0002\n",
      "18:45:54\t\t19:00:09\t\t0:14:14\t\t0.00188296\t\t0.0019\n",
      "18:51:12\t\t19:14:01\t\t0:22:48\t\t0.00298790\t\t0.0030\n",
      "19:00:09\t\t19:02:23\t\t0:02:14\t\t0.00038392\t\t0.0004\n",
      "19:02:23\t\t19:10:36\t\t0:08:12\t\t0.00083350\t\t0.0008\n",
      "19:10:36\t\t19:26:46\t\t0:16:09\t\t0.00155865\t\t0.0016\n",
      "19:10:50\t\t19:17:35\t\t0:06:44\t\t0.00068812\t\t0.0007\n",
      "19:14:01\t\t19:15:01\t\t0:00:59\t\t0.00012084\t\t0.0001\n",
      "19:15:01\t\t19:29:36\t\t0:14:34\t\t0.00155161\t\t0.0016\n",
      "19:16:40\t\t19:18:23\t\t0:01:43\t\t0.00024379\t\t0.0002\n",
      "19:17:35\t\t19:32:38\t\t0:15:02\t\t0.00103666\t\t0.0010\n",
      "19:18:23\t\t19:20:47\t\t0:02:23\t\t0.00032521\t\t0.0003\n",
      "19:20:47\t\t19:24:45\t\t0:03:57\t\t0.00037113\t\t0.0004\n",
      "19:24:45\t\t19:38:40\t\t0:13:55\t\t0.00158188\t\t0.0016\n",
      "19:26:46\t\t19:30:11\t\t0:03:25\t\t0.00027629\t\t0.0003\n",
      "19:29:36\t\t19:45:15\t\t0:15:38\t\t0.00179324\t\t0.0018\n",
      "19:30:11\t\t19:34:41\t\t0:04:30\t\t0.00033634\t\t0.0003\n",
      "19:32:38\t\t19:42:42\t\t0:10:04\t\t0.00063409\t\t0.0006\n",
      "19:34:41\t\t19:35:54\t\t0:01:12\t\t0.00010341\t\t0.0001\n",
      "19:35:54\t\t19:38:00\t\t0:02:06\t\t0.00012959\t\t0.0001\n",
      "19:38:00\t\t19:41:06\t\t0:03:05\t\t0.00018114\t\t0.0002\n",
      "19:38:40\t\t19:40:03\t\t0:01:22\t\t0.00015922\t\t0.0002\n",
      "19:40:03\t\t19:41:10\t\t0:01:07\t\t0.00006856\t\t0.0001\n",
      "19:41:06\t\t19:42:53\t\t0:01:47\t\t0.00016726\t\t0.0002\n",
      "19:41:10\t\t19:43:33\t\t0:02:22\t\t0.00018121\t\t0.0002\n",
      "19:42:42\t\t19:43:42\t\t0:00:59\t\t0.00010054\t\t0.0001\n",
      "19:51:26\t\t20:02:38\t\t0:11:12\t\t0.00070951\t\t0.0007\n",
      "19:51:55\t\t20:09:09\t\t0:17:14\t\t0.00069252\t\t0.0007\n",
      "19:53:12\t\t19:59:10\t\t0:05:58\t\t0.00038245\t\t0.0004\n",
      "19:55:33\t\t19:55:42\t\t0:00:08\t\t0.00000808\t\t0.0000\n",
      "19:56:20\t\t20:01:52\t\t0:05:32\t\t0.00031448\t\t0.0003\n",
      "19:59:10\t\t20:21:24\t\t0:22:13\t\t0.00144581\t\t0.0014\n",
      "20:01:52\t\t20:06:24\t\t0:04:31\t\t0.00025505\t\t0.0003\n",
      "20:06:31\t\t20:13:29\t\t0:06:58\t\t0.00053121\t\t0.0005\n",
      "20:06:48\t\t20:11:21\t\t0:04:33\t\t0.00020593\t\t0.0002\n",
      "20:11:39\t\t20:18:35\t\t0:06:56\t\t0.00043988\t\t0.0004\n",
      "20:17:11\t\t20:18:21\t\t0:01:10\t\t0.00004794\t\t0.0000\n",
      "20:18:29\t\t20:33:08\t\t0:14:38\t\t0.00081246\t\t0.0008\n",
      "20:21:42\t\t20:27:05\t\t0:05:23\t\t0.00022331\t\t0.0002\n",
      "20:21:49\t\t20:22:12\t\t0:00:23\t\t0.00002505\t\t0.0000\n",
      "20:22:57\t\t20:23:10\t\t0:00:12\t\t0.00000844\t\t0.0000\n",
      "20:25:28\t\t20:26:38\t\t0:01:10\t\t0.00005323\t\t0.0001\n",
      "20:27:12\t\t20:34:06\t\t0:06:54\t\t0.00020336\t\t0.0002\n",
      "20:30:46\t\t20:33:00\t\t0:02:13\t\t0.00008664\t\t0.0001\n",
      "20:32:47\t\t20:39:06\t\t0:06:18\t\t0.00015868\t\t0.0002\n",
      "20:35:53\t\t20:36:19\t\t0:00:25\t\t0.00001256\t\t0.0000\n",
      "20:38:32\t\t20:39:48\t\t0:01:15\t\t0.00004682\t\t0.0000\n",
      "20:39:49\t\t20:40:26\t\t0:00:37\t\t0.00002910\t\t0.0000\n",
      "20:41:00\t\t20:47:54\t\t0:06:53\t\t0.00017242\t\t0.0002\n",
      "20:41:40\t\t20:47:58\t\t0:06:17\t\t0.00015013\t\t0.0002\n",
      "20:41:44\t\t20:52:26\t\t0:10:41\t\t0.00030807\t\t0.0003\n",
      "20:42:38\t\t20:54:16\t\t0:11:38\t\t0.00040234\t\t0.0004\n",
      "20:47:54\t\t20:49:48\t\t0:01:53\t\t0.00006577\t\t0.0001\n",
      "20:47:58\t\t20:49:34\t\t0:01:35\t\t0.00005904\t\t0.0001\n",
      "20:49:34\t\t21:00:17\t\t0:10:43\t\t0.00108858\t\t0.0011\n",
      "20:49:48\t\t20:58:43\t\t0:08:55\t\t0.00076208\t\t0.0008\n",
      "20:52:26\t\t20:54:52\t\t0:02:25\t\t0.00007670\t\t0.0001\n",
      "20:54:16\t\t21:09:55\t\t0:15:39\t\t0.00133492\t\t0.0013\n",
      "20:54:52\t\t20:58:54\t\t0:04:02\t\t0.00048722\t\t0.0005\n",
      "20:58:43\t\t21:01:12\t\t0:02:29\t\t0.00038405\t\t0.0004\n",
      "21:01:14\t\t21:05:23\t\t0:04:09\t\t0.00044353\t\t0.0004\n",
      "21:06:32\t\t21:20:34\t\t0:14:02\t\t0.00082060\t\t0.0008\n",
      "21:15:12\t\t21:21:17\t\t0:06:05\t\t0.00032616\t\t0.0003\n",
      "21:16:30\t\t21:20:09\t\t0:03:39\t\t0.00015575\t\t0.0002\n",
      "21:17:01\t\t21:23:40\t\t0:06:39\t\t0.00030264\t\t0.0003\n",
      "21:20:09\t\t21:35:50\t\t0:15:40\t\t0.00095712\t\t0.0010\n",
      "21:20:34\t\t21:22:50\t\t0:02:15\t\t0.00016378\t\t0.0002\n",
      "21:21:17\t\t21:25:18\t\t0:04:01\t\t0.00016720\t\t0.0002\n",
      "21:22:50\t\t21:42:09\t\t0:19:18\t\t0.00127373\t\t0.0013\n",
      "21:23:40\t\t21:27:49\t\t0:04:08\t\t0.00021042\t\t0.0002\n",
      "21:29:48\t\t21:30:12\t\t0:00:24\t\t0.00001715\t\t0.0000\n",
      "21:32:28\t\t21:41:37\t\t0:09:08\t\t0.00040471\t\t0.0004\n",
      "21:37:54\t\t21:45:39\t\t0:07:44\t\t0.00037161\t\t0.0004\n",
      "21:46:04\t\t21:47:18\t\t0:01:14\t\t0.00004306\t\t0.0000\n",
      "21:46:09\t\t21:57:26\t\t0:11:16\t\t0.00030957\t\t0.0003\n",
      "21:48:02\t\t21:50:28\t\t0:02:26\t\t0.00007129\t\t0.0001\n",
      "21:51:57\t\t22:14:49\t\t0:22:52\t\t0.00113686\t\t0.0011\n",
      "21:59:29\t\t22:08:21\t\t0:08:52\t\t0.00065094\t\t0.0007\n",
      "22:02:45\t\t22:10:43\t\t0:07:57\t\t0.00033354\t\t0.0003\n",
      "22:04:15\t\t22:22:05\t\t0:17:49\t\t0.00078319\t\t0.0008\n",
      "22:15:14\t\t22:21:26\t\t0:06:12\t\t0.00028120\t\t0.0003\n",
      "22:33:37\t\t22:41:19\t\t0:07:42\t\t0.00030975\t\t0.0003\n",
      "22:50:05\t\t23:05:36\t\t0:15:31\t\t0.00040758\t\t0.0004\n",
      "23:00:06\t\t23:00:16\t\t0:00:10\t\t0.00000663\t\t0.0000\n",
      "23:04:14\t\t23:04:46\t\t0:00:31\t\t0.00001344\t\t0.0000\n",
      "23:06:35\t\t23:19:23\t\t0:12:47\t\t0.00019216\t\t0.0002\n"
     ]
    }
   ],
   "source": [
    "pinf = 1 - np.exp(-E)\n",
    "\n",
    "print('time entered\\ttime left\\ttime spent\\texposure (quanta)\\tP(inf)')\n",
    "print('--------------------------------------------------------------------------------------')\n",
    "print('(susceptibles only)\\n')\n",
    "susceptibles = 0\n",
    "for (a, d, _), e, pinf_ in zip(arrive_depart, E, pinf):\n",
    "    if _ == 1:\n",
    "        continue\n",
    "    t_enter = str(datetime.timedelta(hours=a)).rsplit('.')[0]\n",
    "    t_leave = str(datetime.timedelta(hours=d)).rsplit('.')[0]\n",
    "    t_spent = str(datetime.timedelta(hours=d) - datetime.timedelta(hours=a)).rsplit('.')[0]\n",
    "    susceptibles += 1\n",
    "    #spent = (d-a)*60.0\n",
    "    print(t_enter + '\\t\\t' + t_leave + '\\t\\t' + t_spent +'\\t\\t%.8f\\t\\t%.4f' %(e, pinf_))"
   ]
  },
  {
   "cell_type": "markdown",
   "metadata": {},
   "source": [
    "### Expected number of secondary infections"
   ]
  },
  {
   "cell_type": "code",
   "execution_count": 16,
   "metadata": {
    "scrolled": true
   },
   "outputs": [
    {
     "name": "stdout",
     "output_type": "stream",
     "text": [
      "Expected 2nd-ary infections: 0.154 out of 183 susceptibles\n"
     ]
    }
   ],
   "source": [
    "E_infs = np.sum(pinf)\n",
    "print('Expected 2nd-ary infections: %.3f out of %d susceptibles' %(E_infs, susceptibles) )"
   ]
  }
 ],
 "metadata": {
  "kernelspec": {
   "display_name": "Python 3",
   "language": "python",
   "name": "python3"
  },
  "language_info": {
   "codemirror_mode": {
    "name": "ipython",
    "version": 3
   },
   "file_extension": ".py",
   "mimetype": "text/x-python",
   "name": "python",
   "nbconvert_exporter": "python",
   "pygments_lexer": "ipython3",
   "version": "3.8.5"
  }
 },
 "nbformat": 4,
 "nbformat_minor": 4
}
