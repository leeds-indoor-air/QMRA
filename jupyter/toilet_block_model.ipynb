{
 "cells": [
  {
   "cell_type": "code",
   "execution_count": 1,
   "metadata": {},
   "outputs": [
    {
     "name": "stdout",
     "output_type": "stream",
     "text": [
      "seed: 1627656271\n"
     ]
    }
   ],
   "source": [
    "import time\n",
    "import numpy as np\n",
    "import math as m\n",
    "import sys\n",
    "import datetime\n",
    "%matplotlib inline\n",
    "from matplotlib import pyplot as plt\n",
    "\n",
    "import queue_model_fns as qu\n",
    "from van_Doremalen_2020 import viral_half_lives\n",
    "from Duguid_1946 import total_talk_small\n",
    "import first_order_ODE as foode\n",
    "from pulmonary_rate import pulmonary_rate\n",
    "\n",
    "#seed random number generator\n",
    "seed = int(time.time())\n",
    "rD = np.random.default_rng(seed)\n",
    "print('seed:',seed)"
   ]
  },
  {
   "cell_type": "markdown",
   "metadata": {},
   "source": [
    "## Set up\n",
    "\n",
    "- Simulates usage of m-cubicle toilet block by a population with a background prevalence of an airborne infectious disease\n",
    "- simulation period is 24hr, midnight to midnight\n",
    "- arrivals are Markovian (with rate depending on time of day)\n",
    "- general residence time distribution\n",
    "- if someone arrives and all m cubicles are occupied, they join a queue\n",
    "\n",
    "Calculates: \n",
    "- airborne pathogen concentration over the period\n",
    "- pathogen exposure for each susceptible visitor + probability of infection\n",
    "- expected total 2nd-ary infections over period\n",
    "\n",
    "Where we are being naive:\n",
    "- no account taken of fomite transmission\n",
    "- we assume everyone uses toilet block for same purpose (so no washing, washing of clothes or other uses)\n",
    "- we assume a very large population uses the block, with no one making repeat visits\n",
    "- no mitigations"
   ]
  },
  {
   "cell_type": "markdown",
   "metadata": {},
   "source": [
    "### Background disease prevalence rate - change this (value between 0 and 1)"
   ]
  },
  {
   "cell_type": "code",
   "execution_count": 2,
   "metadata": {},
   "outputs": [],
   "source": [
    "prev = 0.1"
   ]
  },
  {
   "cell_type": "markdown",
   "metadata": {},
   "source": [
    "### Buidling parameters - change these at will!"
   ]
  },
  {
   "cell_type": "code",
   "execution_count": 3,
   "metadata": {},
   "outputs": [],
   "source": [
    "V = 1.5 * 5 * 2 #cubic metres\n",
    "\n",
    "cubs = 4 #number of cubicles\n",
    "\n",
    "people = 4\n",
    "litrespersecondperperson = 0.25"
   ]
  },
  {
   "cell_type": "code",
   "execution_count": 4,
   "metadata": {},
   "outputs": [
    {
     "name": "stdout",
     "output_type": "stream",
     "text": [
      "Building volume: 15.00 (m^3)\n",
      "Ventilation rate: 3.60 (m^3 per hour), 0.24 (air changes per hour)\n"
     ]
    }
   ],
   "source": [
    "Q = people * litrespersecondperperson * 60 * 60/ 1000 #total ventilation rate in m3/hour\n",
    "Q_ACH = Q / V\n",
    "print('Building volume: %.2f (m^3)' %V)\n",
    "print('Ventilation rate: %.2f (m^3 per hour), %.2f (air changes per hour)' %(Q, Q_ACH))"
   ]
  },
  {
   "cell_type": "markdown",
   "metadata": {},
   "source": [
    "### Decay rate of SARS-CoV-2 in aerosols [hour$^{-1}$] (van Doremalen 2020) - does not apply generally, so keep or change"
   ]
  },
  {
   "cell_type": "code",
   "execution_count": 5,
   "metadata": {},
   "outputs": [
    {
     "name": "stdout",
     "output_type": "stream",
     "text": [
      "gamma_air: 0.63 (per hour)\n"
     ]
    }
   ],
   "source": [
    "gamma = {k_:m.log(2)/(v_) for k_, v_ in zip(viral_half_lives.keys(),\n",
    "                                                 viral_half_lives.values())} #per hour [van Doremalen (2020)]\n",
    "\n",
    "gamma_air = gamma['aerosol']\n",
    "print('gamma_air: %.2f (per hour)' %gamma_air)"
   ]
  },
  {
   "cell_type": "markdown",
   "metadata": {},
   "source": [
    "### Quanta emission rate - change this"
   ]
  },
  {
   "cell_type": "code",
   "execution_count": 6,
   "metadata": {},
   "outputs": [],
   "source": [
    "qer = 30.0 #per hour"
   ]
  },
  {
   "cell_type": "markdown",
   "metadata": {},
   "source": [
    "### Residence time distribution\n",
    "\n",
    "Naively gamma-distributed with mean approx. 6 mins.  However, we can make this more sophisticated by e.g. calibrating from Ghana data and taking into account different modes of usage, such as washing vs. toileting."
   ]
  },
  {
   "cell_type": "code",
   "execution_count": 7,
   "metadata": {},
   "outputs": [
    {
     "data": {
      "image/png": "[encoded data removed]",
      "text/plain": [
       "<Figure size 432x288 with 1 Axes>"
      ]
     },
     "metadata": {
      "needs_background": "light"
     },
     "output_type": "display_data"
    }
   ],
   "source": [
    "def residence_time(rD):\n",
    "    #return 0.5\n",
    "    return rD.gamma(shape=1.1, scale=1.0/10)\n",
    "\n",
    "residence_times_hist = [residence_time(rD) for i in range(5000)]\n",
    "plt.hist(residence_times_hist, bins=40)\n",
    "plt.xlabel('time (hours)')\n",
    "plt.ylabel('frequency')\n",
    "plt.show()\n"
   ]
  },
  {
   "cell_type": "markdown",
   "metadata": {},
   "source": [
    "### Arrival pattern - change this\n",
    "\n",
    "Just made this up, but again, can play with this and/or use Ghana data"
   ]
  },
  {
   "cell_type": "code",
   "execution_count": 17,
   "metadata": {},
   "outputs": [],
   "source": [
    "'''\n",
    "very quiet: midnight to 6am\n",
    "busy: 6am to 9am\n",
    "quiet: 9am to 6pm\n",
    "busy: 6pm to 10pm\n",
    "quiet: 10pm to midnight\n",
    "'''\n",
    "\n",
    "very_quiet_rate = 0.6 #per hour\n",
    "quiet_rate = 3.0 #per hour\n",
    "busy_rate = 25.0 #per hour"
   ]
  },
  {
   "cell_type": "markdown",
   "metadata": {},
   "source": [
    "## Run simulation"
   ]
  },
  {
   "cell_type": "markdown",
   "metadata": {},
   "source": [
    "### 1. Simulate arrivals and usage"
   ]
  },
  {
   "cell_type": "code",
   "execution_count": 19,
   "metadata": {},
   "outputs": [],
   "source": [
    "arrivals = []\n",
    "\n",
    "qu.simulate_arrivals(very_quiet_rate, 0.0, 6.0, prev, arrivals, rD)\n",
    "qu.simulate_arrivals(busy_rate, 6.0, 9.0, prev, arrivals, rD)\n",
    "qu.simulate_arrivals(quiet_rate, 9.0, 18.0, prev, arrivals, rD)\n",
    "qu.simulate_arrivals(busy_rate, 18.0, 22.0, prev, arrivals, rD)\n",
    "qu.simulate_arrivals(quiet_rate, 22.0, 24.0, prev, arrivals, rD)"
   ]
  },
  {
   "cell_type": "code",
   "execution_count": 20,
   "metadata": {},
   "outputs": [],
   "source": [
    "out_str = []\n",
    "t, occ, inf, que, arrive_depart = qu.simulate_usage(cubs, arrivals, residence_time, out_str, rD)"
   ]
  },
  {
   "cell_type": "code",
   "execution_count": 21,
   "metadata": {},
   "outputs": [],
   "source": [
    "#Uncomment below if you want to see simulated usage pattern listed\n",
    "#for str in out_str:\n",
    "#        print(str)\n",
    "        "
   ]
  },
  {
   "cell_type": "markdown",
   "metadata": {},
   "source": [
    "### 2. Calculate airborne concentration [quanta m$^{-3}$] at each change in occupancy"
   ]
  },
  {
   "cell_type": "code",
   "execution_count": 22,
   "metadata": {},
   "outputs": [],
   "source": [
    "a =  qer / V\n",
    "b = (Q/V + gamma_air)\n",
    "C = qu.calculate_concentrations( t, inf, a, b, 0.0 )"
   ]
  },
  {
   "cell_type": "markdown",
   "metadata": {},
   "source": [
    "### 3. Calculate each person's exposure [quanta]"
   ]
  },
  {
   "cell_type": "markdown",
   "metadata": {},
   "source": [
    "#### notes\n",
    "\n",
    "Gammaitoni and Nucci's model [Beggs, et al. 2003] in terms of airborne *concentration* rather than absolute airborne pathogen load is\n",
    "\n",
    "\\begin{align}\n",
    "\\frac{dS}{dt} &= - p\\,C\\,S\\\\\n",
    "\\frac{dC}{dt} &= \\frac{q}{V} - (\\frac{Q}{V} + \\gamma_{\\text{air}})\\,C\\\\\n",
    "\\end{align}\n",
    "\n",
    "where\n",
    "\n",
    "$S = $ number of susceptibles\n",
    "\n",
    "$C = $ airborne concentration [quanta per m${^3}$] \n",
    "\n",
    "$p = $ pulmonary ventilation rate [m${^3}$ per hour]\n",
    "\n",
    "$Q = $ ventilation rate [m${^3}$ per hour]\n",
    "\n",
    "$V = $ room volume [m${^3}$]\n",
    "\n",
    "$\\gamma_{\\text{air}} = $ pathogen decay rate in aerosols [per hour]\n",
    "\n",
    "$q = $ emission rate [quanta per hour].\n",
    "\n",
    "\n",
    "Adapting to discrete infections, note that hazard of infection, per susceptible, is\n",
    "\n",
    "\\begin{equation}\n",
    "h(t) = p\\,C(t)\n",
    "\\end{equation}\n",
    "\n",
    "and, therefore, probability of infection due to exposure to concentration $C(t)$ between $t_0$ and $t_1$ is\n",
    "\n",
    "\\begin{align}\n",
    "    P_{\\text{inf}} &= 1 - \\exp\\left\\{-\\int_{t_0}^{t_1} h(t)\\,dt\\right\\}\\\\\n",
    "    & = 1 - \\exp\\left\\{-p\\int_{t_0}^{t_1} C(t)\\,dt\\right\\}.\\\\\n",
    "\\end{align}\n",
    "\n",
    "E.g. total exposure to 1 quantum leads to infection with probability $1 - e^{-1} = 0.632$.\n",
    "\n",
    "Integral is performed by function `calculate_exposures` in `queue_model_fns`"
   ]
  },
  {
   "cell_type": "code",
   "execution_count": 23,
   "metadata": {},
   "outputs": [],
   "source": [
    "pulmonary_rates = pulmonary_rate( len(arrive_depart), rD) / 1000.0\n",
    "E = np.array( qu.calculate_exposures( pulmonary_rates, arrive_depart, t, C, inf, a, b ) )"
   ]
  },
  {
   "cell_type": "markdown",
   "metadata": {},
   "source": [
    "## View outputs"
   ]
  },
  {
   "cell_type": "markdown",
   "metadata": {},
   "source": [
    "### 1. Occupancy & airborne concentration"
   ]
  },
  {
   "cell_type": "code",
   "execution_count": 24,
   "metadata": {},
   "outputs": [
    {
     "data": {
      "image/png": "[encoded data removed]",
      "text/plain": [
       "<Figure size 1296x360 with 2 Axes>"
      ]
     },
     "metadata": {
      "needs_background": "light"
     },
     "output_type": "display_data"
    }
   ],
   "source": [
    "fig, ax = plt.subplots(1,2,sharex=True)\n",
    "\n",
    "fig.set_size_inches( (18,5) )\n",
    "\n",
    "#ax[0].step(t, occ, 'g-', where='post', label='occupants', alpha=0.6)\n",
    "ax[0].step(t, inf, 'r-', where='post', label='infected', alpha=0.6)\n",
    "#ax[0].step(t, que, 'b-', where='post', label='queue', alpha=0.6)\n",
    "ax[0].legend( loc='upper left' )\n",
    "\n",
    "ax[1].plot(t, C, 'k-')\n",
    "\n",
    "ax[0].set_xlabel('time (hr)')\n",
    "ax[0].set_title('occupancy (people)')\n",
    "ax[1].set_title(r'airborne concentration (quanta m$^{-3}$)')\n",
    "\n",
    "plt.show()"
   ]
  },
  {
   "cell_type": "markdown",
   "metadata": {},
   "source": [
    "### 2. Exposure"
   ]
  },
  {
   "cell_type": "code",
   "execution_count": 25,
   "metadata": {},
   "outputs": [
    {
     "name": "stdout",
     "output_type": "stream",
     "text": [
      "time entered\ttime left\ttime spent\texposure (quanta)\tP(inf)\n",
      "--------------------------------------------------------------------------------------\n",
      "(susceptibles only)\n",
      "\n",
      "2:55:01\t\t2:55:43\t\t0:00:42\t\t0.00000000\t\t0.0000\n",
      "4:07:46\t\t4:17:35\t\t0:09:49\t\t0.00000000\t\t0.0000\n",
      "5:50:41\t\t5:57:43\t\t0:07:02\t\t0.00000000\t\t0.0000\n",
      "6:04:58\t\t6:12:11\t\t0:07:13\t\t0.00000000\t\t0.0000\n",
      "6:06:47\t\t6:07:42\t\t0:00:55\t\t0.00000000\t\t0.0000\n",
      "6:07:47\t\t6:11:04\t\t0:03:16\t\t0.00000000\t\t0.0000\n",
      "6:09:06\t\t6:15:38\t\t0:06:32\t\t0.00000000\t\t0.0000\n",
      "6:10:27\t\t6:16:42\t\t0:06:14\t\t0.00000000\t\t0.0000\n",
      "6:18:06\t\t6:23:28\t\t0:05:22\t\t0.00000000\t\t0.0000\n",
      "6:18:23\t\t6:20:03\t\t0:01:39\t\t0.00000000\t\t0.0000\n",
      "6:21:20\t\t6:28:57\t\t0:07:36\t\t0.00000000\t\t0.0000\n",
      "6:21:47\t\t6:22:08\t\t0:00:21\t\t0.00000000\t\t0.0000\n",
      "6:22:20\t\t6:22:33\t\t0:00:13\t\t0.00000000\t\t0.0000\n",
      "6:23:24\t\t6:30:09\t\t0:06:45\t\t0.00000000\t\t0.0000\n",
      "6:24:02\t\t6:40:39\t\t0:16:36\t\t0.00000000\t\t0.0000\n",
      "6:28:15\t\t6:47:28\t\t0:19:13\t\t0.00000000\t\t0.0000\n",
      "6:31:30\t\t6:35:33\t\t0:04:02\t\t0.00000000\t\t0.0000\n",
      "6:32:09\t\t6:36:06\t\t0:03:56\t\t0.00000000\t\t0.0000\n",
      "6:35:33\t\t6:41:09\t\t0:05:35\t\t0.00000000\t\t0.0000\n",
      "6:36:06\t\t6:36:24\t\t0:00:17\t\t0.00000000\t\t0.0000\n",
      "6:38:11\t\t6:38:54\t\t0:00:42\t\t0.00000000\t\t0.0000\n",
      "6:38:54\t\t6:39:14\t\t0:00:20\t\t0.00000000\t\t0.0000\n",
      "6:40:51\t\t6:42:38\t\t0:01:47\t\t0.00000000\t\t0.0000\n",
      "6:43:19\t\t6:47:29\t\t0:04:09\t\t0.00000000\t\t0.0000\n",
      "6:43:36\t\t6:44:44\t\t0:01:08\t\t0.00000000\t\t0.0000\n",
      "6:45:32\t\t6:52:15\t\t0:06:42\t\t0.00000000\t\t0.0000\n",
      "6:46:00\t\t6:47:40\t\t0:01:40\t\t0.00000000\t\t0.0000\n",
      "6:47:28\t\t6:47:38\t\t0:00:10\t\t0.00000000\t\t0.0000\n",
      "6:47:29\t\t6:48:20\t\t0:00:50\t\t0.00000000\t\t0.0000\n",
      "6:49:23\t\t6:58:18\t\t0:08:55\t\t0.00000000\t\t0.0000\n",
      "6:49:49\t\t6:52:04\t\t0:02:15\t\t0.00000000\t\t0.0000\n",
      "6:51:18\t\t7:04:06\t\t0:12:47\t\t0.00000000\t\t0.0000\n",
      "6:52:04\t\t6:56:54\t\t0:04:50\t\t0.00000000\t\t0.0000\n",
      "6:52:15\t\t7:10:28\t\t0:18:13\t\t0.00000000\t\t0.0000\n",
      "6:56:54\t\t7:23:27\t\t0:26:32\t\t0.00000000\t\t0.0000\n",
      "6:58:18\t\t7:16:04\t\t0:17:45\t\t0.00000000\t\t0.0000\n",
      "7:04:06\t\t7:13:18\t\t0:09:12\t\t0.00000000\t\t0.0000\n",
      "7:10:28\t\t7:10:37\t\t0:00:08\t\t0.00000000\t\t0.0000\n",
      "7:10:37\t\t7:27:01\t\t0:16:24\t\t0.00000000\t\t0.0000\n",
      "7:13:18\t\t7:31:29\t\t0:18:10\t\t0.00016500\t\t0.0002\n",
      "7:16:04\t\t7:17:08\t\t0:01:03\t\t0.00000000\t\t0.0000\n",
      "7:17:08\t\t7:22:55\t\t0:05:47\t\t0.00000000\t\t0.0000\n",
      "7:22:55\t\t7:27:01\t\t0:04:05\t\t0.00000000\t\t0.0000\n",
      "7:23:27\t\t7:28:40\t\t0:05:12\t\t0.00001770\t\t0.0000\n",
      "7:27:01\t\t7:45:23\t\t0:18:22\t\t0.00146286\t\t0.0015\n",
      "7:27:01\t\t7:29:44\t\t0:02:43\t\t0.00005169\t\t0.0001\n",
      "7:28:40\t\t7:29:19\t\t0:00:39\t\t0.00001023\t\t0.0000\n",
      "7:29:19\t\t7:32:09\t\t0:02:49\t\t0.00014613\t\t0.0001\n",
      "7:31:29\t\t7:35:34\t\t0:04:05\t\t0.00035747\t\t0.0004\n",
      "7:32:09\t\t7:35:09\t\t0:02:59\t\t0.00025867\t\t0.0003\n",
      "7:35:09\t\t7:36:24\t\t0:01:14\t\t0.00009974\t\t0.0001\n",
      "7:39:58\t\t7:41:18\t\t0:01:20\t\t0.00011861\t\t0.0001\n",
      "7:45:40\t\t8:03:23\t\t0:17:42\t\t0.00078578\t\t0.0008\n",
      "7:50:02\t\t7:59:52\t\t0:09:50\t\t0.00067298\t\t0.0007\n",
      "7:52:16\t\t7:53:16\t\t0:00:59\t\t0.00005944\t\t0.0001\n",
      "7:56:12\t\t7:58:15\t\t0:02:03\t\t0.00015879\t\t0.0002\n",
      "7:58:11\t\t8:04:57\t\t0:06:46\t\t0.00070800\t\t0.0007\n",
      "8:01:29\t\t8:07:10\t\t0:05:40\t\t0.00080902\t\t0.0008\n",
      "8:04:53\t\t8:09:06\t\t0:04:12\t\t0.00040951\t\t0.0004\n",
      "8:10:44\t\t8:11:54\t\t0:01:09\t\t0.00012390\t\t0.0001\n",
      "8:14:14\t\t8:24:34\t\t0:10:19\t\t0.00103761\t\t0.0010\n",
      "8:16:51\t\t8:18:55\t\t0:02:04\t\t0.00033722\t\t0.0003\n",
      "8:19:35\t\t8:26:01\t\t0:06:25\t\t0.00103518\t\t0.0010\n",
      "8:25:58\t\t8:29:24\t\t0:03:25\t\t0.00034406\t\t0.0003\n",
      "8:26:38\t\t8:28:36\t\t0:01:58\t\t0.00014639\t\t0.0001\n",
      "8:28:16\t\t8:33:27\t\t0:05:10\t\t0.00058440\t\t0.0006\n",
      "8:30:56\t\t8:44:12\t\t0:13:16\t\t0.00178051\t\t0.0018\n",
      "8:31:59\t\t8:35:47\t\t0:03:47\t\t0.00040570\t\t0.0004\n",
      "8:32:58\t\t8:37:38\t\t0:04:39\t\t0.00048474\t\t0.0005\n",
      "8:33:43\t\t8:35:19\t\t0:01:35\t\t0.00010876\t\t0.0001\n",
      "8:35:19\t\t8:52:15\t\t0:16:56\t\t0.00134473\t\t0.0013\n",
      "8:35:47\t\t8:39:16\t\t0:03:29\t\t0.00048287\t\t0.0005\n",
      "8:39:18\t\t8:47:43\t\t0:08:25\t\t0.00060720\t\t0.0006\n",
      "8:40:40\t\t8:51:25\t\t0:10:45\t\t0.00196733\t\t0.0020\n",
      "8:44:12\t\t9:16:29\t\t0:32:17\t\t0.01019402\t\t0.0101\n",
      "8:47:43\t\t8:52:18\t\t0:04:34\t\t0.00092677\t\t0.0009\n",
      "8:51:25\t\t8:52:15\t\t0:00:49\t\t0.00009294\t\t0.0001\n",
      "8:52:19\t\t8:53:30\t\t0:01:10\t\t0.00018831\t\t0.0002\n",
      "8:55:43\t\t9:06:41\t\t0:10:57\t\t0.00282347\t\t0.0028\n",
      "8:55:51\t\t9:02:12\t\t0:06:20\t\t0.00167354\t\t0.0017\n",
      "8:58:50\t\t9:00:57\t\t0:02:07\t\t0.00036862\t\t0.0004\n",
      "9:00:57\t\t9:05:27\t\t0:04:29\t\t0.00097522\t\t0.0010\n",
      "9:23:13\t\t9:30:46\t\t0:07:32\t\t0.00134602\t\t0.0013\n",
      "9:49:26\t\t10:06:41\t\t0:17:14\t\t0.00192819\t\t0.0019\n",
      "10:04:48\t\t10:26:51\t\t0:22:02\t\t0.00313529\t\t0.0031\n",
      "10:27:39\t\t10:54:38\t\t0:26:58\t\t0.00174060\t\t0.0017\n",
      "11:22:10\t\t11:27:29\t\t0:05:18\t\t0.00014071\t\t0.0001\n",
      "11:23:27\t\t11:43:20\t\t0:19:53\t\t0.00076743\t\t0.0008\n",
      "11:50:20\t\t11:51:14\t\t0:00:53\t\t0.00003108\t\t0.0000\n",
      "12:06:31\t\t12:10:28\t\t0:03:57\t\t0.00008769\t\t0.0001\n",
      "12:46:59\t\t12:51:11\t\t0:04:11\t\t0.00004649\t\t0.0000\n",
      "12:56:00\t\t13:04:27\t\t0:08:27\t\t0.00007735\t\t0.0001\n",
      "13:49:54\t\t13:58:31\t\t0:08:36\t\t0.00004235\t\t0.0000\n",
      "14:18:35\t\t14:24:55\t\t0:06:20\t\t0.00001667\t\t0.0000\n",
      "14:30:34\t\t14:32:00\t\t0:01:25\t\t0.00000415\t\t0.0000\n",
      "14:31:01\t\t14:40:31\t\t0:09:29\t\t0.00002857\t\t0.0000\n",
      "14:43:24\t\t14:52:06\t\t0:08:41\t\t0.00001618\t\t0.0000\n",
      "14:57:34\t\t15:32:00\t\t0:34:25\t\t0.00003483\t\t0.0000\n",
      "15:30:13\t\t15:35:45\t\t0:05:31\t\t0.00000765\t\t0.0000\n",
      "15:37:24\t\t15:51:43\t\t0:14:18\t\t0.00000880\t\t0.0000\n",
      "15:53:51\t\t16:03:43\t\t0:09:51\t\t0.00000846\t\t0.0000\n",
      "16:35:19\t\t16:39:27\t\t0:04:07\t\t0.00000406\t\t0.0000\n",
      "16:49:34\t\t17:02:21\t\t0:12:47\t\t0.00000960\t\t0.0000\n",
      "16:50:55\t\t16:57:59\t\t0:07:03\t\t0.00000910\t\t0.0000\n",
      "17:37:05\t\t17:49:39\t\t0:12:34\t\t0.00000507\t\t0.0000\n",
      "18:04:54\t\t18:06:06\t\t0:01:11\t\t0.00000038\t\t0.0000\n",
      "18:17:33\t\t18:19:19\t\t0:01:45\t\t0.00004847\t\t0.0000\n",
      "18:18:19\t\t18:24:56\t\t0:06:36\t\t0.00009074\t\t0.0001\n",
      "18:19:06\t\t18:19:47\t\t0:00:40\t\t0.00001068\t\t0.0000\n",
      "18:23:50\t\t18:24:22\t\t0:00:31\t\t0.00000833\t\t0.0000\n",
      "18:25:53\t\t18:32:35\t\t0:06:41\t\t0.00008824\t\t0.0001\n",
      "18:26:03\t\t18:29:58\t\t0:03:55\t\t0.00004906\t\t0.0000\n",
      "18:28:24\t\t18:41:58\t\t0:13:34\t\t0.00026772\t\t0.0003\n",
      "18:29:26\t\t18:30:01\t\t0:00:34\t\t0.00000781\t\t0.0000\n",
      "18:32:02\t\t18:36:36\t\t0:04:33\t\t0.00007054\t\t0.0001\n",
      "18:35:43\t\t18:40:25\t\t0:04:41\t\t0.00010190\t\t0.0001\n",
      "18:37:29\t\t18:40:12\t\t0:02:42\t\t0.00003142\t\t0.0000\n",
      "18:37:33\t\t18:38:12\t\t0:00:38\t\t0.00000941\t\t0.0000\n",
      "18:38:28\t\t18:51:25\t\t0:12:57\t\t0.00015777\t\t0.0002\n",
      "18:41:54\t\t19:05:09\t\t0:23:15\t\t0.00077113\t\t0.0008\n",
      "18:42:09\t\t18:42:56\t\t0:00:47\t\t0.00000743\t\t0.0000\n",
      "18:45:15\t\t18:58:23\t\t0:13:07\t\t0.00053488\t\t0.0005\n",
      "18:45:59\t\t18:51:06\t\t0:05:06\t\t0.00006970\t\t0.0001\n",
      "18:51:06\t\t18:54:40\t\t0:03:33\t\t0.00027343\t\t0.0003\n",
      "18:51:25\t\t18:53:23\t\t0:01:58\t\t0.00010907\t\t0.0001\n",
      "18:53:23\t\t19:03:39\t\t0:10:16\t\t0.00049057\t\t0.0005\n",
      "18:57:37\t\t19:00:13\t\t0:02:36\t\t0.00009143\t\t0.0001\n",
      "19:02:01\t\t19:11:40\t\t0:09:39\t\t0.00043405\t\t0.0004\n",
      "19:03:55\t\t19:06:03\t\t0:02:08\t\t0.00005920\t\t0.0001\n",
      "19:15:00\t\t19:22:58\t\t0:07:58\t\t0.00028433\t\t0.0003\n",
      "19:17:21\t\t19:24:13\t\t0:06:52\t\t0.00022792\t\t0.0002\n",
      "19:20:16\t\t19:37:07\t\t0:16:51\t\t0.00193726\t\t0.0019\n",
      "19:22:01\t\t19:23:53\t\t0:01:51\t\t0.00008527\t\t0.0001\n",
      "19:22:58\t\t19:36:20\t\t0:13:21\t\t0.00123204\t\t0.0012\n",
      "19:25:00\t\t19:28:33\t\t0:03:32\t\t0.00049072\t\t0.0005\n",
      "19:26:47\t\t19:31:53\t\t0:05:06\t\t0.00055790\t\t0.0006\n",
      "19:28:33\t\t19:31:27\t\t0:02:54\t\t0.00043377\t\t0.0004\n",
      "19:31:27\t\t19:42:53\t\t0:11:25\t\t0.00146929\t\t0.0015\n",
      "19:31:53\t\t19:34:59\t\t0:03:06\t\t0.00056228\t\t0.0006\n",
      "19:34:59\t\t19:38:12\t\t0:03:12\t\t0.00041471\t\t0.0004\n",
      "19:37:07\t\t19:51:43\t\t0:14:35\t\t0.00164108\t\t0.0016\n",
      "19:38:12\t\t19:41:41\t\t0:03:28\t\t0.00025668\t\t0.0003\n",
      "19:41:41\t\t19:51:51\t\t0:10:09\t\t0.00107365\t\t0.0011\n",
      "19:42:53\t\t19:44:29\t\t0:01:35\t\t0.00021963\t\t0.0002\n",
      "19:49:34\t\t19:52:56\t\t0:03:21\t\t0.00024147\t\t0.0002\n",
      "19:51:03\t\t19:58:55\t\t0:07:51\t\t0.00083608\t\t0.0008\n",
      "19:52:01\t\t19:55:28\t\t0:03:27\t\t0.00041201\t\t0.0004\n",
      "19:56:39\t\t20:01:44\t\t0:05:05\t\t0.00076133\t\t0.0008\n",
      "19:59:11\t\t20:06:59\t\t0:07:48\t\t0.00189470\t\t0.0019\n",
      "19:59:55\t\t20:04:20\t\t0:04:25\t\t0.00062294\t\t0.0006\n",
      "20:01:44\t\t20:25:20\t\t0:23:36\t\t0.00545392\t\t0.0054\n",
      "20:04:20\t\t20:09:09\t\t0:04:48\t\t0.00153472\t\t0.0015\n",
      "20:06:59\t\t20:14:40\t\t0:07:41\t\t0.00133432\t\t0.0013\n",
      "20:09:19\t\t20:17:35\t\t0:08:15\t\t0.00132463\t\t0.0013\n",
      "20:14:40\t\t20:41:56\t\t0:27:16\t\t0.00547324\t\t0.0055\n",
      "20:15:42\t\t20:20:37\t\t0:04:54\t\t0.00088197\t\t0.0009\n",
      "20:17:35\t\t20:32:05\t\t0:14:29\t\t0.00222537\t\t0.0022\n",
      "20:20:37\t\t20:34:03\t\t0:13:25\t\t0.00294989\t\t0.0029\n",
      "20:25:20\t\t20:29:50\t\t0:04:29\t\t0.00071688\t\t0.0007\n",
      "20:32:05\t\t20:33:00\t\t0:00:55\t\t0.00017052\t\t0.0002\n",
      "20:33:00\t\t20:35:39\t\t0:02:38\t\t0.00050325\t\t0.0005\n",
      "20:34:03\t\t20:48:30\t\t0:14:27\t\t0.00224937\t\t0.0022\n",
      "20:35:29\t\t20:37:06\t\t0:01:36\t\t0.00015832\t\t0.0002\n",
      "20:35:39\t\t20:38:39\t\t0:02:59\t\t0.00048496\t\t0.0005\n",
      "20:37:06\t\t20:41:24\t\t0:04:17\t\t0.00077895\t\t0.0008\n",
      "20:38:39\t\t20:43:43\t\t0:05:03\t\t0.00067954\t\t0.0007\n",
      "20:41:24\t\t20:41:31\t\t0:00:07\t\t0.00002129\t\t0.0000\n",
      "20:41:31\t\t20:42:03\t\t0:00:32\t\t0.00007258\t\t0.0001\n",
      "20:41:56\t\t20:55:34\t\t0:13:37\t\t0.00267865\t\t0.0027\n",
      "20:42:03\t\t20:46:51\t\t0:04:47\t\t0.00056644\t\t0.0006\n",
      "20:43:43\t\t20:51:43\t\t0:08:00\t\t0.00127079\t\t0.0013\n",
      "20:46:51\t\t20:47:18\t\t0:00:27\t\t0.00004230\t\t0.0000\n",
      "20:47:18\t\t20:50:21\t\t0:03:03\t\t0.00047742\t\t0.0005\n",
      "20:48:30\t\t20:57:38\t\t0:09:07\t\t0.00250121\t\t0.0025\n",
      "20:50:21\t\t20:53:54\t\t0:03:33\t\t0.00091689\t\t0.0009\n",
      "20:51:43\t\t20:55:12\t\t0:03:29\t\t0.00080743\t\t0.0008\n",
      "21:03:28\t\t21:03:52\t\t0:00:23\t\t0.00006321\t\t0.0001\n",
      "21:03:44\t\t21:09:59\t\t0:06:15\t\t0.00060684\t\t0.0006\n",
      "21:05:07\t\t21:16:57\t\t0:11:50\t\t0.00142087\t\t0.0014\n",
      "21:05:55\t\t21:09:16\t\t0:03:21\t\t0.00032206\t\t0.0003\n",
      "21:06:42\t\t21:22:42\t\t0:16:00\t\t0.00148608\t\t0.0015\n",
      "21:11:08\t\t21:17:59\t\t0:06:51\t\t0.00103073\t\t0.0010\n",
      "21:17:08\t\t21:19:41\t\t0:02:32\t\t0.00023423\t\t0.0002\n",
      "21:25:06\t\t21:27:29\t\t0:02:22\t\t0.00016709\t\t0.0002\n",
      "21:32:14\t\t21:42:07\t\t0:09:52\t\t0.00087913\t\t0.0009\n",
      "21:32:41\t\t21:43:12\t\t0:10:30\t\t0.00122661\t\t0.0012\n",
      "21:33:40\t\t21:35:01\t\t0:01:21\t\t0.00014859\t\t0.0001\n",
      "21:36:12\t\t21:36:55\t\t0:00:42\t\t0.00008905\t\t0.0001\n",
      "21:43:50\t\t22:07:08\t\t0:23:18\t\t0.00183233\t\t0.0018\n",
      "21:45:07\t\t21:56:40\t\t0:11:33\t\t0.00099510\t\t0.0010\n",
      "21:46:59\t\t21:57:06\t\t0:10:06\t\t0.00090683\t\t0.0009\n",
      "21:48:54\t\t21:50:09\t\t0:01:15\t\t0.00008997\t\t0.0001\n",
      "21:50:09\t\t21:52:54\t\t0:02:45\t\t0.00014612\t\t0.0001\n",
      "21:52:54\t\t21:56:27\t\t0:03:32\t\t0.00083620\t\t0.0008\n",
      "21:56:44\t\t22:02:52\t\t0:06:07\t\t0.00066834\t\t0.0007\n",
      "21:59:08\t\t22:02:41\t\t0:03:33\t\t0.00035204\t\t0.0004\n",
      "22:02:41\t\t22:09:42\t\t0:07:00\t\t0.00059094\t\t0.0006\n",
      "22:34:50\t\t22:35:41\t\t0:00:50\t\t0.00004489\t\t0.0000\n",
      "23:02:39\t\t23:03:48\t\t0:01:08\t\t0.00009192\t\t0.0001\n",
      "23:05:31\t\t23:09:16\t\t0:03:44\t\t0.00014184\t\t0.0001\n",
      "23:49:58\t\t23:55:18\t\t0:05:20\t\t0.00012336\t\t0.0001\n",
      "23:52:15\t\t23:54:24\t\t0:02:08\t\t0.00005348\t\t0.0001\n",
      "23:53:22\t\t1 day, 0:08:34\t\t0:15:12\t\t0.00049176\t\t0.0005\n"
     ]
    }
   ],
   "source": [
    "pinf = 1 - np.exp(-E)\n",
    "\n",
    "print('time entered\\ttime left\\ttime spent\\texposure (quanta)\\tP(inf)')\n",
    "print('--------------------------------------------------------------------------------------')\n",
    "print('(susceptibles only)\\n')\n",
    "susceptibles = 0\n",
    "for (a, d, _), e, pinf_ in zip(arrive_depart, E, pinf):\n",
    "    if _ == 1:\n",
    "        continue\n",
    "    t_enter = str(datetime.timedelta(hours=a)).rsplit('.')[0]\n",
    "    t_leave = str(datetime.timedelta(hours=d)).rsplit('.')[0]\n",
    "    t_spent = str(datetime.timedelta(hours=d) - datetime.timedelta(hours=a)).rsplit('.')[0]\n",
    "    susceptibles += 1\n",
    "    #spent = (d-a)*60.0\n",
    "    print(t_enter + '\\t\\t' + t_leave + '\\t\\t' + t_spent +'\\t\\t%.8f\\t\\t%.4f' %(e, pinf_))"
   ]
  },
  {
   "cell_type": "markdown",
   "metadata": {},
   "source": [
    "### Expected number of secondary infections"
   ]
  },
  {
   "cell_type": "code",
   "execution_count": 26,
   "metadata": {
    "scrolled": true
   },
   "outputs": [
    {
     "name": "stdout",
     "output_type": "stream",
     "text": [
      "Expected 2nd-ary infections: 0.126 out of 203 susceptibles\n"
     ]
    }
   ],
   "source": [
    "E_infs = np.sum(pinf)\n",
    "print('Expected 2nd-ary infections: %.3f out of %d susceptibles' %(E_infs, susceptibles) )"
   ]
  }
 ],
 "metadata": {
  "kernelspec": {
   "display_name": "Python 3",
   "language": "python",
   "name": "python3"
  },
  "language_info": {
   "codemirror_mode": {
    "name": "ipython",
    "version": 3
   },
   "file_extension": ".py",
   "mimetype": "text/x-python",
   "name": "python",
   "nbconvert_exporter": "python",
   "pygments_lexer": "ipython3",
   "version": "3.8.5"
  }
 },
 "nbformat": 4,
 "nbformat_minor": 4
}
